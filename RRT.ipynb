{
 "cells": [
  {
   "cell_type": "markdown",
   "metadata": {},
   "source": [
    "# RRT (Rapidly-exploring Random Tree) and Bidirectional-RRT # "
   ]
  },
  {
   "cell_type": "code",
   "execution_count": 1,
   "metadata": {},
   "outputs": [],
   "source": [
    "import random\n",
    "import math\n",
    "import matplotlib.pyplot as plt\n",
    "from matplotlib.patches import Polygon\n",
    "import imageio\n",
    "import io\n",
    "import numpy as np\n",
    "from shapely.geometry import Polygon as ShapelyPolygon\n",
    "from shapely.geometry import Point\n",
    "from shapely.geometry import Point as ShapelyPoint\n",
    "from shapely.geometry import LineString"
   ]
  },
  {
   "cell_type": "code",
   "execution_count": 2,
   "metadata": {},
   "outputs": [],
   "source": [
    "class Node:\n",
    "    def __init__(self, x, y):\n",
    "        self.x = x\n",
    "        self.y = y \n",
    "        self.parent = None"
   ]
  },
  {
   "cell_type": "markdown",
   "metadata": {},
   "source": [
    "The Node class represents the nodes in the tree. Each node has an attribute to store the position (x, y) in the space and an attribute for the parent node."
   ]
  },
  {
   "cell_type": "code",
   "execution_count": 3,
   "metadata": {},
   "outputs": [],
   "source": [
    "def draw_background():\n",
    "    plt.figure(figsize=(10, 8))\n",
    "    plt.xlim(0, 100)\n",
    "    plt.ylim(0, 100)\n",
    "    plt.xlabel('X')\n",
    "    plt.ylabel('Y')\n",
    "    plt.title('Robot Motion Planning: RRT')\n",
    "    plt.grid(False)\n",
    "\n",
    "def generate_random_polygon_obstacle(num_vertices_range, x_range, y_range):\n",
    "    num_vertices = np.random.randint(*num_vertices_range) # unpacking\n",
    "    vertices = np.random.rand(num_vertices, 2) * [x_range, y_range]\n",
    "    obstacle = Polygon(vertices, closed=True, edgecolor='black', facecolor='gray')\n",
    "    return obstacle\n",
    "\n",
    "def draw_polygon_obstacles(obstacles):\n",
    "    for obstacle in obstacles:\n",
    "        polygon = Polygon(obstacle.get_xy(), closed=True, edgecolor='black', facecolor='gray')\n",
    "        plt.gca().add_patch(polygon)"
   ]
  },
  {
   "cell_type": "markdown",
   "metadata": {},
   "source": [
    "__*draw_background()*__ : Creates a new plot with specific dimensions (10 inches by 8 inches), sets the X and Y axis limits to range from 0 to 100, labels the X and Y axes. \n",
    "\n",
    "__*generate_random_polygon_obstacle(num_vertices_range, x_range, y_range)*__ : Generates a random polygon obstacle with a random number of vertices within a specified range (num_vertices_range) and random coordinates within specified ranges (x_range and y_range). Each vertex is generated with random coordinates and used to create a polygon obstacle with specified characteristics (closed shape, black border, gray face). \n",
    "\n",
    "__*draw_polygon_obstacles(obstacles)*__ : Draws a collection of polygon obstacles onto the current plot. It iterates over each obstacle in the obstacles list and adds each one as a patch to the current plot."
   ]
  },
  {
   "cell_type": "code",
   "execution_count": 4,
   "metadata": {},
   "outputs": [],
   "source": [
    "def generate_random_point(min_xy, max_xy):\n",
    "    x = random.uniform(min_xy, max_xy)\n",
    "    y = random.uniform(min_xy, max_xy)\n",
    "    return Point(x, y)\n",
    "\n",
    "def distance(node_x, node_y, point_x, point_y):\n",
    "    return math.sqrt((node_x - point_x)**2 + (node_y - point_y)**2)\n",
    "\n",
    "def find_nearest_node(tree, random_point_x, random_point_y):\n",
    "    min_dist = math.inf\n",
    "    nearest_node = None\n",
    "    for node in tree:\n",
    "        dist = distance(node.x, node.y, random_point_x, random_point_y)\n",
    "        if dist < min_dist:\n",
    "            min_dist = dist\n",
    "            nearest_node = node\n",
    "    return nearest_node"
   ]
  },
  {
   "cell_type": "markdown",
   "metadata": {},
   "source": [
    "__*def generate_random_point(min_x, max_x, min_y, max_y)*__ : Generates a random point in the space. \n",
    "\n",
    "__*def distance(x, y)*__ : Calculates the distance between two positions. \n",
    "\n",
    "__*def find_nearest_node(tree, random_point)*__ : Given a point find the nearest node in the tree. "
   ]
  },
  {
   "cell_type": "code",
   "execution_count": 5,
   "metadata": {},
   "outputs": [],
   "source": [
    "def is_collision_free(point, obstacles):\n",
    "    point_shapely = ShapelyPoint(point.x, point.y)\n",
    "    for obstacle in obstacles:\n",
    "        obstacle_shapely = ShapelyPolygon(obstacle.get_xy())\n",
    "        if obstacle_shapely.contains(point_shapely):\n",
    "            return False\n",
    "    return True\n",
    "\n",
    "def is_path_collision_free(start_point, end_point, obstacles):\n",
    "    path_line = LineString([(start_point.x, start_point.y), (end_point.x, end_point.y)])\n",
    "    for obstacle in obstacles:\n",
    "        obstacle_polygon = ShapelyPolygon(obstacle.get_xy())\n",
    "        if path_line.intersects(obstacle_polygon):\n",
    "            return False\n",
    "    return True"
   ]
  },
  {
   "cell_type": "markdown",
   "metadata": {},
   "source": [
    "__*def is_collision_free(point, obstacles)*__ : This function checks whether given a point does not overlap with any of the obstacles in the environment.\n",
    "\n",
    "__*def is_path_collision_free(start_point, end_point, obstacles)*__ : This function checks whether a straight line (or segment) between two points does not cross any of the obstacles in the environment.\n",
    "\n",
    "In both functions, the Shapely module is used to represent points and polygons and to perform geometric operations such as containment and intersection checking. Obstacles are represented as polygons, while the path is represented as a straight line between two points."
   ]
  },
  {
   "cell_type": "code",
   "execution_count": 6,
   "metadata": {},
   "outputs": [],
   "source": [
    "def choose_new_point(random_point, nearest_node, obstacles):\n",
    "    # Calculate the length of the segment.\n",
    "    dist_x = abs (random_point.x - nearest_node.x)\n",
    "    dist_y = abs (random_point.y -nearest_node.y)\n",
    "    length_segment = max (dist_x, dist_y)\n",
    "    dist_max = []\n",
    "    # Generates points along the segment.\n",
    "    points = []\n",
    "    for i in range(int(length_segment) + 1):\n",
    "        x = round(random_point.x + (i / length_segment) * (nearest_node.x - random_point.x))\n",
    "        y = round(random_point.y + (i / length_segment) * (nearest_node.y - random_point.y))\n",
    "        points.append((x, y)) \n",
    "    for p in points:\n",
    "        dist = distance(nearest_node.x, nearest_node.y, p[0] , p[1])\n",
    "        dist_max.append((dist, p))\n",
    "    dist_max = sorted(dist_max, key=lambda x: x[0], reverse=True)\n",
    "    for i in dist_max:\n",
    "            if is_path_collision_free(Point(i[1][0], i[1][1]), nearest_node, obstacles):\n",
    "                return i[1]\n",
    "        \n",
    "def add_node_to_tree(new_node, parent_node):\n",
    "    new_node.parent = parent_node\n",
    "\n",
    "def extend_tree(tree, qnew):\n",
    "    tree.append(qnew)      "
   ]
  },
  {
   "cell_type": "markdown",
   "metadata": {},
   "source": [
    "__*def choose_new_point(random_point, nearest_node, obstacles)*__ : This function chooses a new point along the segment between the random point and the nearest node. It calculates the length of the segment using the difference between the x and y coordinates of the random point and the nearest node, then determines the maximum length between these two differences.It generates a series of points along the segment using the linear interpolation formula.\n",
    "For each point generated along the segment, calculate the distance between the point and the nearest node.\n",
    "\n",
    "__*def add_node_to_tree(new_node, nearest_node)*__ : This function adds the newly created node (arising from the chosen point) as a child of the nearest node.\n",
    "\n",
    "__*def extend_tree(tree, qnew)*__ : This function extends the tree by adding the new node to it."
   ]
  },
  {
   "cell_type": "code",
   "execution_count": 7,
   "metadata": {},
   "outputs": [],
   "source": [
    "def rrt(num_iterations, obstacles, start_point, goal_point):\n",
    "    tree = []\n",
    "    tree_list = []\n",
    "    tree = [Node(start_point.x, start_point.y)]\n",
    "    tree_list = [tree.copy()]\n",
    "\n",
    "    for i in range(num_iterations):  \n",
    "        if i % 100 != 0:\n",
    "            random_point = generate_random_point(0, 100)\n",
    "            nearest_node = find_nearest_node(tree, random_point.x, random_point.y)\n",
    "            qs = choose_new_point(random_point, nearest_node, obstacles)\n",
    "            if qs is not None:\n",
    "                new_node = Node(qs[0], qs[1])\n",
    "                add_node_to_tree(new_node, nearest_node)\n",
    "                extend_tree(tree, new_node)\n",
    "        else:\n",
    "            qs = (goal_point.x, goal_point.y)  \n",
    "            nearest_node = find_nearest_node(tree, qs[0], qs[1])\n",
    "            if is_path_collision_free(goal_point, nearest_node, obstacles):\n",
    "                goal_node = Node(goal_point.x, goal_point.y)\n",
    "                add_node_to_tree(goal_node, nearest_node)\n",
    "                extend_tree(tree, goal_node)\n",
    "                tree_list.append(tree.copy())  \n",
    "                return tree_list\n",
    "\n",
    "        tree_list.append(tree.copy())  \n",
    "    return tree_list"
   ]
  },
  {
   "cell_type": "markdown",
   "metadata": {},
   "source": [
    "__*def rrt(num_iterations, obstacles, start_point, goal_point)*__ : This function implements the RRT (Rapidly-exploring Random Tree) algorithm to find paths in a configuration space.\n",
    "An empty tree is initialized as well as a list that will contain the states of the tree at each iteration.\n",
    "The starting point is added as an initial node to the tree.\n",
    "A loop is executed for a specified number of iterations (num_iterations).\n",
    "At each iteration, a random point in the environment is generated.\n",
    "The tree node closest to the generated random point is found.\n",
    "A new point is chosen along the segment between the random point and the nearest node, avoiding collisions with obstacles.\n",
    "If the new point does not cause collisions, it is added to the tree as a new node.\n",
    "The new node is extended in the tree.\n",
    "Every 100 iterations it is checked whether the goal_point can be added to the tree, i.e., whether there is a collision-free path between the goal_point and the nearest_node, if so the algorithm terminates by returning the tree.\n",
    "If the maximum number of iterations is reached without the target point being reached, the algorithm still returns the current tree.\n"
   ]
  },
  {
   "cell_type": "code",
   "execution_count": 8,
   "metadata": {},
   "outputs": [],
   "source": [
    "def get_path_to_root(node):\n",
    "    path = []\n",
    "    while node is not None:\n",
    "        path.append(node)\n",
    "        node = node.parent\n",
    "    return list(reversed(path))  # Invert the list to get the path from the root to the current node\n",
    "\n",
    "def check_intersection(tree_start, tree_goal, obstacles):\n",
    "    for node_start in tree_start:\n",
    "        for node_goal in tree_goal:\n",
    "            if is_path_collision_free(node_start, node_goal, obstacles):\n",
    "                return (node_start, node_goal)\n",
    "    return None\n",
    "\n",
    "def rrt_bidirectional(num_iterations, obstacles, start_point, goal_point, threshold_distance=2.0):\n",
    "    tree_start = [Node(start_point.x, start_point.y)]\n",
    "    tree_goal = [Node(goal_point.x, goal_point.y)]\n",
    "    final_path = None\n",
    "    rrt_trees = []\n",
    "\n",
    "    for iteration in range(num_iterations):\n",
    "        random_point_start = generate_random_point(0, 100)\n",
    "        nearest_node_start = find_nearest_node(tree_start, random_point_start.x, random_point_start.y)\n",
    "        qs_start = choose_new_point(random_point_start, nearest_node_start, obstacles)\n",
    "        if qs_start is not None:\n",
    "            new_node_start = Node(qs_start[0], qs_start[1])\n",
    "            add_node_to_tree(new_node_start, nearest_node_start)\n",
    "            extend_tree(tree_start, new_node_start)\n",
    "\n",
    "        random_point_goal = generate_random_point(0, 100)\n",
    "        nearest_node_goal = find_nearest_node(tree_goal, random_point_goal.x, random_point_goal.y)\n",
    "        qs_goal = choose_new_point(random_point_goal, nearest_node_goal, obstacles)\n",
    "        if qs_goal is not None:\n",
    "            new_node_goal = Node(qs_goal[0], qs_goal[1])\n",
    "            add_node_to_tree(new_node_goal, nearest_node_goal)\n",
    "            extend_tree(tree_goal, new_node_goal)\n",
    "\n",
    "        if iteration % 50 == 0:\n",
    "            latest_nodes_goal = tree_goal[-1]\n",
    "            nearest_node = find_nearest_node(tree_start, latest_nodes_goal.x, latest_nodes_goal.y) \n",
    "            if is_path_collision_free(latest_nodes_goal, nearest_node, obstacles):\n",
    "                path_start = get_path_to_root(nearest_node)\n",
    "                path_goal = get_path_to_root(latest_nodes_goal)\n",
    "                path_goal.reverse()\n",
    "                final_path = path_start + path_goal\n",
    "                return final_path, rrt_trees\n",
    "\n",
    "        if iteration % 1 == 0:\n",
    "            rrt_trees.append((tree_start.copy(), tree_goal.copy()))\n",
    "\n",
    "    return final_path, rrt_trees\n",
    "\n"
   ]
  },
  {
   "cell_type": "markdown",
   "metadata": {},
   "source": [
    "__*get_path_to_root(node)*__ : This function returns the path from the root of a tree to the specified node. It is used to obtain the path from the root to the current node.\n",
    "\n",
    "__*check_intersection(tree_start, tree_goal, obstacles)*__ : This function checks whether there is an intersection between the two trees (source tree and target tree). It scans pairs of nodes from the two trees and checks whether the path between them is free of collisions with obstacles.\n",
    "\n",
    "__*rrt_bidirectional(num_iterations, obstacles, start_point, goal_point, threshold_distance=2.0)*__ : Implements the bidirectional RRT algorithm to find a path between a starting point and a destination point.\n",
    "It uses two RRT trees, one for the starting point and one for the destination point, and attempts to extend them to the opposite point. Every tot iterations, it checks whether the newest node in the destination point tree can be joined to the nearest node in the start point tree without collision. If it finds a valid path, it returns the final path and a list of RRT tree pairs for each iteration.\n",
    "\n",
    "These functions form a basic implementation of the bidirectional RRT algorithm for path planning."
   ]
  },
  {
   "cell_type": "markdown",
   "metadata": {},
   "source": [
    "**Execution of the RRT algorithm**:"
   ]
  },
  {
   "cell_type": "code",
   "execution_count": 9,
   "metadata": {},
   "outputs": [
    {
     "name": "stdout",
     "output_type": "stream",
     "text": [
      "Iteration 1/302\n",
      "Iteration 2/302\n",
      "Iteration 3/302\n"
     ]
    },
    {
     "name": "stderr",
     "output_type": "stream",
     "text": [
      "/tmp/ipykernel_19616/1451141092.py:81: DeprecationWarning: Starting with ImageIO v3 the behavior of this function will switch to that of iio.v3.imread. To keep the current behavior (and make this warning disappear) use `import imageio.v2 as imageio` or call `imageio.v2.imread` directly.\n",
      "  image = imageio.imread(buf)\n"
     ]
    },
    {
     "name": "stdout",
     "output_type": "stream",
     "text": [
      "Iteration 4/302\n",
      "Iteration 5/302\n",
      "Iteration 6/302\n",
      "Iteration 7/302\n",
      "Iteration 8/302\n",
      "Iteration 9/302\n",
      "Iteration 10/302\n",
      "Iteration 11/302\n",
      "Iteration 12/302\n",
      "Iteration 13/302\n",
      "Iteration 14/302\n",
      "Iteration 15/302\n",
      "Iteration 16/302\n",
      "Iteration 17/302\n",
      "Iteration 18/302\n",
      "Iteration 19/302\n",
      "Iteration 20/302\n"
     ]
    },
    {
     "name": "stderr",
     "output_type": "stream",
     "text": [
      "/tmp/ipykernel_19616/2647180751.py:2: RuntimeWarning: More than 20 figures have been opened. Figures created through the pyplot interface (`matplotlib.pyplot.figure`) are retained until explicitly closed and may consume too much memory. (To control this warning, see the rcParam `figure.max_open_warning`). Consider using `matplotlib.pyplot.close()`.\n",
      "  plt.figure(figsize=(10, 8))\n",
      "/tmp/ipykernel_19616/1451141092.py:67: RuntimeWarning: More than 20 figures have been opened. Figures created through the pyplot interface (`matplotlib.pyplot.figure`) are retained until explicitly closed and may consume too much memory. (To control this warning, see the rcParam `figure.max_open_warning`). Consider using `matplotlib.pyplot.close()`.\n",
      "  plt.figure(figsize=(10, 8))\n"
     ]
    },
    {
     "name": "stdout",
     "output_type": "stream",
     "text": [
      "Iteration 21/302\n",
      "Iteration 22/302\n",
      "Iteration 23/302\n",
      "Iteration 24/302\n",
      "Iteration 25/302\n",
      "Iteration 26/302\n",
      "Iteration 27/302\n",
      "Iteration 28/302\n",
      "Iteration 29/302\n",
      "Iteration 30/302\n",
      "Iteration 31/302\n",
      "Iteration 32/302\n",
      "Iteration 33/302\n",
      "Iteration 34/302\n",
      "Iteration 35/302\n",
      "Iteration 36/302\n",
      "Iteration 37/302\n",
      "Iteration 38/302\n",
      "Iteration 39/302\n",
      "Iteration 40/302\n",
      "Iteration 41/302\n",
      "Iteration 42/302\n",
      "Iteration 43/302\n",
      "Iteration 44/302\n",
      "Iteration 45/302\n",
      "Iteration 46/302\n",
      "Iteration 47/302\n",
      "Iteration 48/302\n",
      "Iteration 49/302\n",
      "Iteration 50/302\n",
      "Iteration 51/302\n",
      "Iteration 52/302\n",
      "Iteration 53/302\n",
      "Iteration 54/302\n",
      "Iteration 55/302\n",
      "Iteration 56/302\n",
      "Iteration 57/302\n",
      "Iteration 58/302\n",
      "Iteration 59/302\n",
      "Iteration 60/302\n",
      "Iteration 61/302\n",
      "Iteration 62/302\n",
      "Iteration 63/302\n",
      "Iteration 64/302\n",
      "Iteration 65/302\n",
      "Iteration 66/302\n",
      "Iteration 67/302\n",
      "Iteration 68/302\n",
      "Iteration 69/302\n",
      "Iteration 70/302\n",
      "Iteration 71/302\n",
      "Iteration 72/302\n",
      "Iteration 73/302\n",
      "Iteration 74/302\n",
      "Iteration 75/302\n",
      "Iteration 76/302\n",
      "Iteration 77/302\n",
      "Iteration 78/302\n",
      "Iteration 79/302\n",
      "Iteration 80/302\n",
      "Iteration 81/302\n",
      "Iteration 82/302\n",
      "Iteration 83/302\n",
      "Iteration 84/302\n",
      "Iteration 85/302\n",
      "Iteration 86/302\n",
      "Iteration 87/302\n",
      "Iteration 88/302\n",
      "Iteration 89/302\n",
      "Iteration 90/302\n",
      "Iteration 91/302\n",
      "Iteration 92/302\n",
      "Iteration 93/302\n",
      "Iteration 94/302\n",
      "Iteration 95/302\n",
      "Iteration 96/302\n",
      "Iteration 97/302\n",
      "Iteration 98/302\n",
      "Iteration 99/302\n",
      "Iteration 100/302\n",
      "Iteration 101/302\n",
      "Iteration 102/302\n",
      "Iteration 103/302\n",
      "Iteration 104/302\n",
      "Iteration 105/302\n",
      "Iteration 106/302\n",
      "Iteration 107/302\n",
      "Iteration 108/302\n",
      "Iteration 109/302\n",
      "Iteration 110/302\n",
      "Iteration 111/302\n",
      "Iteration 112/302\n",
      "Iteration 113/302\n",
      "Iteration 114/302\n",
      "Iteration 115/302\n",
      "Iteration 116/302\n",
      "Iteration 117/302\n",
      "Iteration 118/302\n",
      "Iteration 119/302\n",
      "Iteration 120/302\n",
      "Iteration 121/302\n",
      "Iteration 122/302\n",
      "Iteration 123/302\n",
      "Iteration 124/302\n",
      "Iteration 125/302\n",
      "Iteration 126/302\n",
      "Iteration 127/302\n",
      "Iteration 128/302\n",
      "Iteration 129/302\n",
      "Iteration 130/302\n",
      "Iteration 131/302\n",
      "Iteration 132/302\n",
      "Iteration 133/302\n",
      "Iteration 134/302\n",
      "Iteration 135/302\n",
      "Iteration 136/302\n",
      "Iteration 137/302\n",
      "Iteration 138/302\n",
      "Iteration 139/302\n",
      "Iteration 140/302\n",
      "Iteration 141/302\n",
      "Iteration 142/302\n",
      "Iteration 143/302\n",
      "Iteration 144/302\n",
      "Iteration 145/302\n",
      "Iteration 146/302\n",
      "Iteration 147/302\n",
      "Iteration 148/302\n",
      "Iteration 149/302\n",
      "Iteration 150/302\n",
      "Iteration 151/302\n",
      "Iteration 152/302\n",
      "Iteration 153/302\n",
      "Iteration 154/302\n",
      "Iteration 155/302\n",
      "Iteration 156/302\n",
      "Iteration 157/302\n",
      "Iteration 158/302\n",
      "Iteration 159/302\n",
      "Iteration 160/302\n",
      "Iteration 161/302\n",
      "Iteration 162/302\n",
      "Iteration 163/302\n",
      "Iteration 164/302\n",
      "Iteration 165/302\n",
      "Iteration 166/302\n",
      "Iteration 167/302\n",
      "Iteration 168/302\n",
      "Iteration 169/302\n",
      "Iteration 170/302\n",
      "Iteration 171/302\n",
      "Iteration 172/302\n",
      "Iteration 173/302\n",
      "Iteration 174/302\n",
      "Iteration 175/302\n",
      "Iteration 176/302\n",
      "Iteration 177/302\n",
      "Iteration 178/302\n",
      "Iteration 179/302\n",
      "Iteration 180/302\n",
      "Iteration 181/302\n",
      "Iteration 182/302\n",
      "Iteration 183/302\n",
      "Iteration 184/302\n",
      "Iteration 185/302\n",
      "Iteration 186/302\n",
      "Iteration 187/302\n",
      "Iteration 188/302\n",
      "Iteration 189/302\n",
      "Iteration 190/302\n",
      "Iteration 191/302\n",
      "Iteration 192/302\n",
      "Iteration 193/302\n",
      "Iteration 194/302\n",
      "Iteration 195/302\n",
      "Iteration 196/302\n",
      "Iteration 197/302\n",
      "Iteration 198/302\n",
      "Iteration 199/302\n",
      "Iteration 200/302\n",
      "Iteration 201/302\n",
      "Iteration 202/302\n",
      "Iteration 203/302\n",
      "Iteration 204/302\n",
      "Iteration 205/302\n",
      "Iteration 206/302\n",
      "Iteration 207/302\n",
      "Iteration 208/302\n",
      "Iteration 209/302\n",
      "Iteration 210/302\n",
      "Iteration 211/302\n",
      "Iteration 212/302\n",
      "Iteration 213/302\n",
      "Iteration 214/302\n",
      "Iteration 215/302\n",
      "Iteration 216/302\n",
      "Iteration 217/302\n",
      "Iteration 218/302\n",
      "Iteration 219/302\n",
      "Iteration 220/302\n",
      "Iteration 221/302\n",
      "Iteration 222/302\n",
      "Iteration 223/302\n",
      "Iteration 224/302\n",
      "Iteration 225/302\n",
      "Iteration 226/302\n",
      "Iteration 227/302\n",
      "Iteration 228/302\n",
      "Iteration 229/302\n",
      "Iteration 230/302\n",
      "Iteration 231/302\n",
      "Iteration 232/302\n",
      "Iteration 233/302\n",
      "Iteration 234/302\n",
      "Iteration 235/302\n",
      "Iteration 236/302\n",
      "Iteration 237/302\n",
      "Iteration 238/302\n",
      "Iteration 239/302\n",
      "Iteration 240/302\n",
      "Iteration 241/302\n",
      "Iteration 242/302\n",
      "Iteration 243/302\n",
      "Iteration 244/302\n",
      "Iteration 245/302\n",
      "Iteration 246/302\n",
      "Iteration 247/302\n",
      "Iteration 248/302\n",
      "Iteration 249/302\n",
      "Iteration 250/302\n",
      "Iteration 251/302\n",
      "Iteration 252/302\n",
      "Iteration 253/302\n",
      "Iteration 254/302\n",
      "Iteration 255/302\n",
      "Iteration 256/302\n",
      "Iteration 257/302\n",
      "Iteration 258/302\n",
      "Iteration 259/302\n",
      "Iteration 260/302\n",
      "Iteration 261/302\n",
      "Iteration 262/302\n",
      "Iteration 263/302\n",
      "Iteration 264/302\n",
      "Iteration 265/302\n",
      "Iteration 266/302\n",
      "Iteration 267/302\n",
      "Iteration 268/302\n",
      "Iteration 269/302\n",
      "Iteration 270/302\n",
      "Iteration 271/302\n",
      "Iteration 272/302\n",
      "Iteration 273/302\n",
      "Iteration 274/302\n",
      "Iteration 275/302\n",
      "Iteration 276/302\n",
      "Iteration 277/302\n",
      "Iteration 278/302\n",
      "Iteration 279/302\n",
      "Iteration 280/302\n",
      "Iteration 281/302\n",
      "Iteration 282/302\n",
      "Iteration 283/302\n",
      "Iteration 284/302\n",
      "Iteration 285/302\n",
      "Iteration 286/302\n",
      "Iteration 287/302\n",
      "Iteration 288/302\n",
      "Iteration 289/302\n",
      "Iteration 290/302\n",
      "Iteration 291/302\n",
      "Iteration 292/302\n",
      "Iteration 293/302\n",
      "Iteration 294/302\n",
      "Iteration 295/302\n",
      "Iteration 296/302\n",
      "Iteration 297/302\n",
      "Iteration 298/302\n",
      "Iteration 299/302\n",
      "Iteration 300/302\n",
      "Iteration 301/302\n",
      "Iteration 302/302\n"
     ]
    },
    {
     "name": "stderr",
     "output_type": "stream",
     "text": [
      "/tmp/ipykernel_19616/1451141092.py:103: DeprecationWarning: Starting with ImageIO v3 the behavior of this function will switch to that of iio.v3.imread. To keep the current behavior (and make this warning disappear) use `import imageio.v2 as imageio` or call `imageio.v2.imread` directly.\n",
      "  image = imageio.imread(buf)\n"
     ]
    },
    {
     "name": "stdout",
     "output_type": "stream",
     "text": [
      "GIF created: rrt_animation.gif\n"
     ]
    },
    {
     "data": {
      "image/png": "[encoded data removed]",
      "text/plain": [
       "<Figure size 1000x800 with 1 Axes>"
      ]
     },
     "metadata": {},
     "output_type": "display_data"
    },
    {
     "data": {
      "text/plain": [
       "<Figure size 1000x800 with 0 Axes>"
      ]
     },
     "metadata": {},
     "output_type": "display_data"
    },
    {
     "data": {
      "text/plain": [
       "<Figure size 1000x800 with 0 Axes>"
      ]
     },
     "metadata": {},
     "output_type": "display_data"
    },
    {
     "data": {
      "text/plain": [
       "<Figure size 1000x800 with 0 Axes>"
      ]
     },
     "metadata": {},
     "output_type": "display_data"
    },
    {
     "data": {
      "text/plain": [
       "<Figure size 1000x800 with 0 Axes>"
      ]
     },
     "metadata": {},
     "output_type": "display_data"
    },
    {
     "data": {
      "text/plain": [
       "<Figure size 1000x800 with 0 Axes>"
      ]
     },
     "metadata": {},
     "output_type": "display_data"
    },
    {
     "data": {
      "text/plain": [
       "<Figure size 1000x800 with 0 Axes>"
      ]
     },
     "metadata": {},
     "output_type": "display_data"
    },
    {
     "data": {
      "text/plain": [
       "<Figure size 1000x800 with 0 Axes>"
      ]
     },
     "metadata": {},
     "output_type": "display_data"
    },
    {
     "data": {
      "text/plain": [
       "<Figure size 1000x800 with 0 Axes>"
      ]
     },
     "metadata": {},
     "output_type": "display_data"
    },
    {
     "data": {
      "text/plain": [
       "<Figure size 1000x800 with 0 Axes>"
      ]
     },
     "metadata": {},
     "output_type": "display_data"
    },
    {
     "data": {
      "text/plain": [
       "<Figure size 1000x800 with 0 Axes>"
      ]
     },
     "metadata": {},
     "output_type": "display_data"
    },
    {
     "data": {
      "text/plain": [
       "<Figure size 1000x800 with 0 Axes>"
      ]
     },
     "metadata": {},
     "output_type": "display_data"
    },
    {
     "data": {
      "text/plain": [
       "<Figure size 1000x800 with 0 Axes>"
      ]
     },
     "metadata": {},
     "output_type": "display_data"
    },
    {
     "data": {
      "text/plain": [
       "<Figure size 1000x800 with 0 Axes>"
      ]
     },
     "metadata": {},
     "output_type": "display_data"
    },
    {
     "data": {
      "text/plain": [
       "<Figure size 1000x800 with 0 Axes>"
      ]
     },
     "metadata": {},
     "output_type": "display_data"
    },
    {
     "data": {
      "text/plain": [
       "<Figure size 1000x800 with 0 Axes>"
      ]
     },
     "metadata": {},
     "output_type": "display_data"
    },
    {
     "data": {
      "text/plain": [
       "<Figure size 1000x800 with 0 Axes>"
      ]
     },
     "metadata": {},
     "output_type": "display_data"
    },
    {
     "data": {
      "text/plain": [
       "<Figure size 1000x800 with 0 Axes>"
      ]
     },
     "metadata": {},
     "output_type": "display_data"
    },
    {
     "data": {
      "text/plain": [
       "<Figure size 1000x800 with 0 Axes>"
      ]
     },
     "metadata": {},
     "output_type": "display_data"
    },
    {
     "data": {
      "text/plain": [
       "<Figure size 1000x800 with 0 Axes>"
      ]
     },
     "metadata": {},
     "output_type": "display_data"
    },
    {
     "data": {
      "text/plain": [
       "<Figure size 1000x800 with 0 Axes>"
      ]
     },
     "metadata": {},
     "output_type": "display_data"
    },
    {
     "data": {
      "text/plain": [
       "<Figure size 1000x800 with 0 Axes>"
      ]
     },
     "metadata": {},
     "output_type": "display_data"
    },
    {
     "data": {
      "text/plain": [
       "<Figure size 1000x800 with 0 Axes>"
      ]
     },
     "metadata": {},
     "output_type": "display_data"
    },
    {
     "data": {
      "text/plain": [
       "<Figure size 1000x800 with 0 Axes>"
      ]
     },
     "metadata": {},
     "output_type": "display_data"
    },
    {
     "data": {
      "text/plain": [
       "<Figure size 1000x800 with 0 Axes>"
      ]
     },
     "metadata": {},
     "output_type": "display_data"
    },
    {
     "data": {
      "text/plain": [
       "<Figure size 1000x800 with 0 Axes>"
      ]
     },
     "metadata": {},
     "output_type": "display_data"
    },
    {
     "data": {
      "text/plain": [
       "<Figure size 1000x800 with 0 Axes>"
      ]
     },
     "metadata": {},
     "output_type": "display_data"
    },
    {
     "data": {
      "text/plain": [
       "<Figure size 1000x800 with 0 Axes>"
      ]
     },
     "metadata": {},
     "output_type": "display_data"
    },
    {
     "data": {
      "text/plain": [
       "<Figure size 1000x800 with 0 Axes>"
      ]
     },
     "metadata": {},
     "output_type": "display_data"
    },
    {
     "data": {
      "text/plain": [
       "<Figure size 1000x800 with 0 Axes>"
      ]
     },
     "metadata": {},
     "output_type": "display_data"
    },
    {
     "data": {
      "text/plain": [
       "<Figure size 1000x800 with 0 Axes>"
      ]
     },
     "metadata": {},
     "output_type": "display_data"
    },
    {
     "data": {
      "text/plain": [
       "<Figure size 1000x800 with 0 Axes>"
      ]
     },
     "metadata": {},
     "output_type": "display_data"
    },
    {
     "data": {
      "text/plain": [
       "<Figure size 1000x800 with 0 Axes>"
      ]
     },
     "metadata": {},
     "output_type": "display_data"
    },
    {
     "data": {
      "text/plain": [
       "<Figure size 1000x800 with 0 Axes>"
      ]
     },
     "metadata": {},
     "output_type": "display_data"
    },
    {
     "data": {
      "text/plain": [
       "<Figure size 1000x800 with 0 Axes>"
      ]
     },
     "metadata": {},
     "output_type": "display_data"
    },
    {
     "data": {
      "text/plain": [
       "<Figure size 1000x800 with 0 Axes>"
      ]
     },
     "metadata": {},
     "output_type": "display_data"
    },
    {
     "data": {
      "text/plain": [
       "<Figure size 1000x800 with 0 Axes>"
      ]
     },
     "metadata": {},
     "output_type": "display_data"
    },
    {
     "data": {
      "text/plain": [
       "<Figure size 1000x800 with 0 Axes>"
      ]
     },
     "metadata": {},
     "output_type": "display_data"
    },
    {
     "data": {
      "text/plain": [
       "<Figure size 1000x800 with 0 Axes>"
      ]
     },
     "metadata": {},
     "output_type": "display_data"
    },
    {
     "data": {
      "text/plain": [
       "<Figure size 1000x800 with 0 Axes>"
      ]
     },
     "metadata": {},
     "output_type": "display_data"
    },
    {
     "data": {
      "text/plain": [
       "<Figure size 1000x800 with 0 Axes>"
      ]
     },
     "metadata": {},
     "output_type": "display_data"
    },
    {
     "data": {
      "text/plain": [
       "<Figure size 1000x800 with 0 Axes>"
      ]
     },
     "metadata": {},
     "output_type": "display_data"
    },
    {
     "data": {
      "text/plain": [
       "<Figure size 1000x800 with 0 Axes>"
      ]
     },
     "metadata": {},
     "output_type": "display_data"
    },
    {
     "data": {
      "text/plain": [
       "<Figure size 1000x800 with 0 Axes>"
      ]
     },
     "metadata": {},
     "output_type": "display_data"
    },
    {
     "data": {
      "text/plain": [
       "<Figure size 1000x800 with 0 Axes>"
      ]
     },
     "metadata": {},
     "output_type": "display_data"
    },
    {
     "data": {
      "text/plain": [
       "<Figure size 1000x800 with 0 Axes>"
      ]
     },
     "metadata": {},
     "output_type": "display_data"
    },
    {
     "data": {
      "text/plain": [
       "<Figure size 1000x800 with 0 Axes>"
      ]
     },
     "metadata": {},
     "output_type": "display_data"
    },
    {
     "data": {
      "text/plain": [
       "<Figure size 1000x800 with 0 Axes>"
      ]
     },
     "metadata": {},
     "output_type": "display_data"
    },
    {
     "data": {
      "text/plain": [
       "<Figure size 1000x800 with 0 Axes>"
      ]
     },
     "metadata": {},
     "output_type": "display_data"
    },
    {
     "data": {
      "text/plain": [
       "<Figure size 1000x800 with 0 Axes>"
      ]
     },
     "metadata": {},
     "output_type": "display_data"
    },
    {
     "data": {
      "text/plain": [
       "<Figure size 1000x800 with 0 Axes>"
      ]
     },
     "metadata": {},
     "output_type": "display_data"
    },
    {
     "data": {
      "text/plain": [
       "<Figure size 1000x800 with 0 Axes>"
      ]
     },
     "metadata": {},
     "output_type": "display_data"
    },
    {
     "data": {
      "text/plain": [
       "<Figure size 1000x800 with 0 Axes>"
      ]
     },
     "metadata": {},
     "output_type": "display_data"
    },
    {
     "data": {
      "text/plain": [
       "<Figure size 1000x800 with 0 Axes>"
      ]
     },
     "metadata": {},
     "output_type": "display_data"
    },
    {
     "data": {
      "text/plain": [
       "<Figure size 1000x800 with 0 Axes>"
      ]
     },
     "metadata": {},
     "output_type": "display_data"
    },
    {
     "data": {
      "text/plain": [
       "<Figure size 1000x800 with 0 Axes>"
      ]
     },
     "metadata": {},
     "output_type": "display_data"
    },
    {
     "data": {
      "text/plain": [
       "<Figure size 1000x800 with 0 Axes>"
      ]
     },
     "metadata": {},
     "output_type": "display_data"
    },
    {
     "data": {
      "text/plain": [
       "<Figure size 1000x800 with 0 Axes>"
      ]
     },
     "metadata": {},
     "output_type": "display_data"
    },
    {
     "data": {
      "text/plain": [
       "<Figure size 1000x800 with 0 Axes>"
      ]
     },
     "metadata": {},
     "output_type": "display_data"
    },
    {
     "data": {
      "text/plain": [
       "<Figure size 1000x800 with 0 Axes>"
      ]
     },
     "metadata": {},
     "output_type": "display_data"
    },
    {
     "data": {
      "text/plain": [
       "<Figure size 1000x800 with 0 Axes>"
      ]
     },
     "metadata": {},
     "output_type": "display_data"
    },
    {
     "data": {
      "text/plain": [
       "<Figure size 1000x800 with 0 Axes>"
      ]
     },
     "metadata": {},
     "output_type": "display_data"
    },
    {
     "data": {
      "text/plain": [
       "<Figure size 1000x800 with 0 Axes>"
      ]
     },
     "metadata": {},
     "output_type": "display_data"
    },
    {
     "data": {
      "text/plain": [
       "<Figure size 1000x800 with 0 Axes>"
      ]
     },
     "metadata": {},
     "output_type": "display_data"
    },
    {
     "data": {
      "text/plain": [
       "<Figure size 1000x800 with 0 Axes>"
      ]
     },
     "metadata": {},
     "output_type": "display_data"
    },
    {
     "data": {
      "text/plain": [
       "<Figure size 1000x800 with 0 Axes>"
      ]
     },
     "metadata": {},
     "output_type": "display_data"
    },
    {
     "data": {
      "text/plain": [
       "<Figure size 1000x800 with 0 Axes>"
      ]
     },
     "metadata": {},
     "output_type": "display_data"
    },
    {
     "data": {
      "text/plain": [
       "<Figure size 1000x800 with 0 Axes>"
      ]
     },
     "metadata": {},
     "output_type": "display_data"
    },
    {
     "data": {
      "text/plain": [
       "<Figure size 1000x800 with 0 Axes>"
      ]
     },
     "metadata": {},
     "output_type": "display_data"
    },
    {
     "data": {
      "text/plain": [
       "<Figure size 1000x800 with 0 Axes>"
      ]
     },
     "metadata": {},
     "output_type": "display_data"
    },
    {
     "data": {
      "text/plain": [
       "<Figure size 1000x800 with 0 Axes>"
      ]
     },
     "metadata": {},
     "output_type": "display_data"
    },
    {
     "data": {
      "text/plain": [
       "<Figure size 1000x800 with 0 Axes>"
      ]
     },
     "metadata": {},
     "output_type": "display_data"
    },
    {
     "data": {
      "text/plain": [
       "<Figure size 1000x800 with 0 Axes>"
      ]
     },
     "metadata": {},
     "output_type": "display_data"
    },
    {
     "data": {
      "text/plain": [
       "<Figure size 1000x800 with 0 Axes>"
      ]
     },
     "metadata": {},
     "output_type": "display_data"
    },
    {
     "data": {
      "text/plain": [
       "<Figure size 1000x800 with 0 Axes>"
      ]
     },
     "metadata": {},
     "output_type": "display_data"
    },
    {
     "data": {
      "text/plain": [
       "<Figure size 1000x800 with 0 Axes>"
      ]
     },
     "metadata": {},
     "output_type": "display_data"
    },
    {
     "data": {
      "text/plain": [
       "<Figure size 1000x800 with 0 Axes>"
      ]
     },
     "metadata": {},
     "output_type": "display_data"
    },
    {
     "data": {
      "text/plain": [
       "<Figure size 1000x800 with 0 Axes>"
      ]
     },
     "metadata": {},
     "output_type": "display_data"
    },
    {
     "data": {
      "text/plain": [
       "<Figure size 1000x800 with 0 Axes>"
      ]
     },
     "metadata": {},
     "output_type": "display_data"
    },
    {
     "data": {
      "text/plain": [
       "<Figure size 1000x800 with 0 Axes>"
      ]
     },
     "metadata": {},
     "output_type": "display_data"
    },
    {
     "data": {
      "text/plain": [
       "<Figure size 1000x800 with 0 Axes>"
      ]
     },
     "metadata": {},
     "output_type": "display_data"
    },
    {
     "data": {
      "text/plain": [
       "<Figure size 1000x800 with 0 Axes>"
      ]
     },
     "metadata": {},
     "output_type": "display_data"
    },
    {
     "data": {
      "text/plain": [
       "<Figure size 1000x800 with 0 Axes>"
      ]
     },
     "metadata": {},
     "output_type": "display_data"
    },
    {
     "data": {
      "text/plain": [
       "<Figure size 1000x800 with 0 Axes>"
      ]
     },
     "metadata": {},
     "output_type": "display_data"
    },
    {
     "data": {
      "text/plain": [
       "<Figure size 1000x800 with 0 Axes>"
      ]
     },
     "metadata": {},
     "output_type": "display_data"
    },
    {
     "data": {
      "text/plain": [
       "<Figure size 1000x800 with 0 Axes>"
      ]
     },
     "metadata": {},
     "output_type": "display_data"
    },
    {
     "data": {
      "text/plain": [
       "<Figure size 1000x800 with 0 Axes>"
      ]
     },
     "metadata": {},
     "output_type": "display_data"
    },
    {
     "data": {
      "text/plain": [
       "<Figure size 1000x800 with 0 Axes>"
      ]
     },
     "metadata": {},
     "output_type": "display_data"
    },
    {
     "data": {
      "text/plain": [
       "<Figure size 1000x800 with 0 Axes>"
      ]
     },
     "metadata": {},
     "output_type": "display_data"
    },
    {
     "data": {
      "text/plain": [
       "<Figure size 1000x800 with 0 Axes>"
      ]
     },
     "metadata": {},
     "output_type": "display_data"
    },
    {
     "data": {
      "text/plain": [
       "<Figure size 1000x800 with 0 Axes>"
      ]
     },
     "metadata": {},
     "output_type": "display_data"
    },
    {
     "data": {
      "text/plain": [
       "<Figure size 1000x800 with 0 Axes>"
      ]
     },
     "metadata": {},
     "output_type": "display_data"
    },
    {
     "data": {
      "text/plain": [
       "<Figure size 1000x800 with 0 Axes>"
      ]
     },
     "metadata": {},
     "output_type": "display_data"
    },
    {
     "data": {
      "text/plain": [
       "<Figure size 1000x800 with 0 Axes>"
      ]
     },
     "metadata": {},
     "output_type": "display_data"
    },
    {
     "data": {
      "text/plain": [
       "<Figure size 1000x800 with 0 Axes>"
      ]
     },
     "metadata": {},
     "output_type": "display_data"
    },
    {
     "data": {
      "text/plain": [
       "<Figure size 1000x800 with 0 Axes>"
      ]
     },
     "metadata": {},
     "output_type": "display_data"
    },
    {
     "data": {
      "text/plain": [
       "<Figure size 1000x800 with 0 Axes>"
      ]
     },
     "metadata": {},
     "output_type": "display_data"
    },
    {
     "data": {
      "text/plain": [
       "<Figure size 1000x800 with 0 Axes>"
      ]
     },
     "metadata": {},
     "output_type": "display_data"
    },
    {
     "data": {
      "text/plain": [
       "<Figure size 1000x800 with 0 Axes>"
      ]
     },
     "metadata": {},
     "output_type": "display_data"
    },
    {
     "data": {
      "text/plain": [
       "<Figure size 1000x800 with 0 Axes>"
      ]
     },
     "metadata": {},
     "output_type": "display_data"
    },
    {
     "data": {
      "text/plain": [
       "<Figure size 1000x800 with 0 Axes>"
      ]
     },
     "metadata": {},
     "output_type": "display_data"
    },
    {
     "data": {
      "text/plain": [
       "<Figure size 1000x800 with 0 Axes>"
      ]
     },
     "metadata": {},
     "output_type": "display_data"
    },
    {
     "data": {
      "text/plain": [
       "<Figure size 1000x800 with 0 Axes>"
      ]
     },
     "metadata": {},
     "output_type": "display_data"
    },
    {
     "data": {
      "text/plain": [
       "<Figure size 1000x800 with 0 Axes>"
      ]
     },
     "metadata": {},
     "output_type": "display_data"
    },
    {
     "data": {
      "text/plain": [
       "<Figure size 1000x800 with 0 Axes>"
      ]
     },
     "metadata": {},
     "output_type": "display_data"
    },
    {
     "data": {
      "text/plain": [
       "<Figure size 1000x800 with 0 Axes>"
      ]
     },
     "metadata": {},
     "output_type": "display_data"
    },
    {
     "data": {
      "text/plain": [
       "<Figure size 1000x800 with 0 Axes>"
      ]
     },
     "metadata": {},
     "output_type": "display_data"
    },
    {
     "data": {
      "text/plain": [
       "<Figure size 1000x800 with 0 Axes>"
      ]
     },
     "metadata": {},
     "output_type": "display_data"
    },
    {
     "data": {
      "text/plain": [
       "<Figure size 1000x800 with 0 Axes>"
      ]
     },
     "metadata": {},
     "output_type": "display_data"
    },
    {
     "data": {
      "text/plain": [
       "<Figure size 1000x800 with 0 Axes>"
      ]
     },
     "metadata": {},
     "output_type": "display_data"
    },
    {
     "data": {
      "text/plain": [
       "<Figure size 1000x800 with 0 Axes>"
      ]
     },
     "metadata": {},
     "output_type": "display_data"
    },
    {
     "data": {
      "text/plain": [
       "<Figure size 1000x800 with 0 Axes>"
      ]
     },
     "metadata": {},
     "output_type": "display_data"
    },
    {
     "data": {
      "text/plain": [
       "<Figure size 1000x800 with 0 Axes>"
      ]
     },
     "metadata": {},
     "output_type": "display_data"
    },
    {
     "data": {
      "text/plain": [
       "<Figure size 1000x800 with 0 Axes>"
      ]
     },
     "metadata": {},
     "output_type": "display_data"
    },
    {
     "data": {
      "text/plain": [
       "<Figure size 1000x800 with 0 Axes>"
      ]
     },
     "metadata": {},
     "output_type": "display_data"
    },
    {
     "data": {
      "text/plain": [
       "<Figure size 1000x800 with 0 Axes>"
      ]
     },
     "metadata": {},
     "output_type": "display_data"
    },
    {
     "data": {
      "text/plain": [
       "<Figure size 1000x800 with 0 Axes>"
      ]
     },
     "metadata": {},
     "output_type": "display_data"
    },
    {
     "data": {
      "text/plain": [
       "<Figure size 1000x800 with 0 Axes>"
      ]
     },
     "metadata": {},
     "output_type": "display_data"
    },
    {
     "data": {
      "text/plain": [
       "<Figure size 1000x800 with 0 Axes>"
      ]
     },
     "metadata": {},
     "output_type": "display_data"
    },
    {
     "data": {
      "text/plain": [
       "<Figure size 1000x800 with 0 Axes>"
      ]
     },
     "metadata": {},
     "output_type": "display_data"
    },
    {
     "data": {
      "text/plain": [
       "<Figure size 1000x800 with 0 Axes>"
      ]
     },
     "metadata": {},
     "output_type": "display_data"
    },
    {
     "data": {
      "text/plain": [
       "<Figure size 1000x800 with 0 Axes>"
      ]
     },
     "metadata": {},
     "output_type": "display_data"
    },
    {
     "data": {
      "text/plain": [
       "<Figure size 1000x800 with 0 Axes>"
      ]
     },
     "metadata": {},
     "output_type": "display_data"
    },
    {
     "data": {
      "text/plain": [
       "<Figure size 1000x800 with 0 Axes>"
      ]
     },
     "metadata": {},
     "output_type": "display_data"
    },
    {
     "data": {
      "text/plain": [
       "<Figure size 1000x800 with 0 Axes>"
      ]
     },
     "metadata": {},
     "output_type": "display_data"
    },
    {
     "data": {
      "text/plain": [
       "<Figure size 1000x800 with 0 Axes>"
      ]
     },
     "metadata": {},
     "output_type": "display_data"
    },
    {
     "data": {
      "text/plain": [
       "<Figure size 1000x800 with 0 Axes>"
      ]
     },
     "metadata": {},
     "output_type": "display_data"
    },
    {
     "data": {
      "text/plain": [
       "<Figure size 1000x800 with 0 Axes>"
      ]
     },
     "metadata": {},
     "output_type": "display_data"
    },
    {
     "data": {
      "text/plain": [
       "<Figure size 1000x800 with 0 Axes>"
      ]
     },
     "metadata": {},
     "output_type": "display_data"
    },
    {
     "data": {
      "text/plain": [
       "<Figure size 1000x800 with 0 Axes>"
      ]
     },
     "metadata": {},
     "output_type": "display_data"
    },
    {
     "data": {
      "text/plain": [
       "<Figure size 1000x800 with 0 Axes>"
      ]
     },
     "metadata": {},
     "output_type": "display_data"
    },
    {
     "data": {
      "text/plain": [
       "<Figure size 1000x800 with 0 Axes>"
      ]
     },
     "metadata": {},
     "output_type": "display_data"
    },
    {
     "data": {
      "text/plain": [
       "<Figure size 1000x800 with 0 Axes>"
      ]
     },
     "metadata": {},
     "output_type": "display_data"
    },
    {
     "data": {
      "text/plain": [
       "<Figure size 1000x800 with 0 Axes>"
      ]
     },
     "metadata": {},
     "output_type": "display_data"
    },
    {
     "data": {
      "text/plain": [
       "<Figure size 1000x800 with 0 Axes>"
      ]
     },
     "metadata": {},
     "output_type": "display_data"
    },
    {
     "data": {
      "text/plain": [
       "<Figure size 1000x800 with 0 Axes>"
      ]
     },
     "metadata": {},
     "output_type": "display_data"
    },
    {
     "data": {
      "text/plain": [
       "<Figure size 1000x800 with 0 Axes>"
      ]
     },
     "metadata": {},
     "output_type": "display_data"
    },
    {
     "data": {
      "text/plain": [
       "<Figure size 1000x800 with 0 Axes>"
      ]
     },
     "metadata": {},
     "output_type": "display_data"
    },
    {
     "data": {
      "text/plain": [
       "<Figure size 1000x800 with 0 Axes>"
      ]
     },
     "metadata": {},
     "output_type": "display_data"
    },
    {
     "data": {
      "text/plain": [
       "<Figure size 1000x800 with 0 Axes>"
      ]
     },
     "metadata": {},
     "output_type": "display_data"
    },
    {
     "data": {
      "text/plain": [
       "<Figure size 1000x800 with 0 Axes>"
      ]
     },
     "metadata": {},
     "output_type": "display_data"
    },
    {
     "data": {
      "text/plain": [
       "<Figure size 1000x800 with 0 Axes>"
      ]
     },
     "metadata": {},
     "output_type": "display_data"
    },
    {
     "data": {
      "text/plain": [
       "<Figure size 1000x800 with 0 Axes>"
      ]
     },
     "metadata": {},
     "output_type": "display_data"
    },
    {
     "data": {
      "text/plain": [
       "<Figure size 1000x800 with 0 Axes>"
      ]
     },
     "metadata": {},
     "output_type": "display_data"
    },
    {
     "data": {
      "text/plain": [
       "<Figure size 1000x800 with 0 Axes>"
      ]
     },
     "metadata": {},
     "output_type": "display_data"
    },
    {
     "data": {
      "text/plain": [
       "<Figure size 1000x800 with 0 Axes>"
      ]
     },
     "metadata": {},
     "output_type": "display_data"
    },
    {
     "data": {
      "text/plain": [
       "<Figure size 1000x800 with 0 Axes>"
      ]
     },
     "metadata": {},
     "output_type": "display_data"
    },
    {
     "data": {
      "text/plain": [
       "<Figure size 1000x800 with 0 Axes>"
      ]
     },
     "metadata": {},
     "output_type": "display_data"
    },
    {
     "data": {
      "text/plain": [
       "<Figure size 1000x800 with 0 Axes>"
      ]
     },
     "metadata": {},
     "output_type": "display_data"
    },
    {
     "data": {
      "text/plain": [
       "<Figure size 1000x800 with 0 Axes>"
      ]
     },
     "metadata": {},
     "output_type": "display_data"
    },
    {
     "data": {
      "text/plain": [
       "<Figure size 1000x800 with 0 Axes>"
      ]
     },
     "metadata": {},
     "output_type": "display_data"
    },
    {
     "data": {
      "text/plain": [
       "<Figure size 1000x800 with 0 Axes>"
      ]
     },
     "metadata": {},
     "output_type": "display_data"
    },
    {
     "data": {
      "text/plain": [
       "<Figure size 1000x800 with 0 Axes>"
      ]
     },
     "metadata": {},
     "output_type": "display_data"
    },
    {
     "data": {
      "text/plain": [
       "<Figure size 1000x800 with 0 Axes>"
      ]
     },
     "metadata": {},
     "output_type": "display_data"
    },
    {
     "data": {
      "text/plain": [
       "<Figure size 1000x800 with 0 Axes>"
      ]
     },
     "metadata": {},
     "output_type": "display_data"
    },
    {
     "data": {
      "text/plain": [
       "<Figure size 1000x800 with 0 Axes>"
      ]
     },
     "metadata": {},
     "output_type": "display_data"
    },
    {
     "data": {
      "text/plain": [
       "<Figure size 1000x800 with 0 Axes>"
      ]
     },
     "metadata": {},
     "output_type": "display_data"
    },
    {
     "data": {
      "text/plain": [
       "<Figure size 1000x800 with 0 Axes>"
      ]
     },
     "metadata": {},
     "output_type": "display_data"
    },
    {
     "data": {
      "text/plain": [
       "<Figure size 1000x800 with 0 Axes>"
      ]
     },
     "metadata": {},
     "output_type": "display_data"
    },
    {
     "data": {
      "text/plain": [
       "<Figure size 1000x800 with 0 Axes>"
      ]
     },
     "metadata": {},
     "output_type": "display_data"
    },
    {
     "data": {
      "text/plain": [
       "<Figure size 1000x800 with 0 Axes>"
      ]
     },
     "metadata": {},
     "output_type": "display_data"
    },
    {
     "data": {
      "text/plain": [
       "<Figure size 1000x800 with 0 Axes>"
      ]
     },
     "metadata": {},
     "output_type": "display_data"
    },
    {
     "data": {
      "text/plain": [
       "<Figure size 1000x800 with 0 Axes>"
      ]
     },
     "metadata": {},
     "output_type": "display_data"
    },
    {
     "data": {
      "text/plain": [
       "<Figure size 1000x800 with 0 Axes>"
      ]
     },
     "metadata": {},
     "output_type": "display_data"
    },
    {
     "data": {
      "text/plain": [
       "<Figure size 1000x800 with 0 Axes>"
      ]
     },
     "metadata": {},
     "output_type": "display_data"
    },
    {
     "data": {
      "text/plain": [
       "<Figure size 1000x800 with 0 Axes>"
      ]
     },
     "metadata": {},
     "output_type": "display_data"
    },
    {
     "data": {
      "text/plain": [
       "<Figure size 1000x800 with 0 Axes>"
      ]
     },
     "metadata": {},
     "output_type": "display_data"
    },
    {
     "data": {
      "text/plain": [
       "<Figure size 1000x800 with 0 Axes>"
      ]
     },
     "metadata": {},
     "output_type": "display_data"
    },
    {
     "data": {
      "text/plain": [
       "<Figure size 1000x800 with 0 Axes>"
      ]
     },
     "metadata": {},
     "output_type": "display_data"
    },
    {
     "data": {
      "text/plain": [
       "<Figure size 1000x800 with 0 Axes>"
      ]
     },
     "metadata": {},
     "output_type": "display_data"
    },
    {
     "data": {
      "text/plain": [
       "<Figure size 1000x800 with 0 Axes>"
      ]
     },
     "metadata": {},
     "output_type": "display_data"
    },
    {
     "data": {
      "text/plain": [
       "<Figure size 1000x800 with 0 Axes>"
      ]
     },
     "metadata": {},
     "output_type": "display_data"
    },
    {
     "data": {
      "text/plain": [
       "<Figure size 1000x800 with 0 Axes>"
      ]
     },
     "metadata": {},
     "output_type": "display_data"
    },
    {
     "data": {
      "text/plain": [
       "<Figure size 1000x800 with 0 Axes>"
      ]
     },
     "metadata": {},
     "output_type": "display_data"
    },
    {
     "data": {
      "text/plain": [
       "<Figure size 1000x800 with 0 Axes>"
      ]
     },
     "metadata": {},
     "output_type": "display_data"
    },
    {
     "data": {
      "text/plain": [
       "<Figure size 1000x800 with 0 Axes>"
      ]
     },
     "metadata": {},
     "output_type": "display_data"
    },
    {
     "data": {
      "text/plain": [
       "<Figure size 1000x800 with 0 Axes>"
      ]
     },
     "metadata": {},
     "output_type": "display_data"
    },
    {
     "data": {
      "text/plain": [
       "<Figure size 1000x800 with 0 Axes>"
      ]
     },
     "metadata": {},
     "output_type": "display_data"
    },
    {
     "data": {
      "text/plain": [
       "<Figure size 1000x800 with 0 Axes>"
      ]
     },
     "metadata": {},
     "output_type": "display_data"
    },
    {
     "data": {
      "text/plain": [
       "<Figure size 1000x800 with 0 Axes>"
      ]
     },
     "metadata": {},
     "output_type": "display_data"
    },
    {
     "data": {
      "text/plain": [
       "<Figure size 1000x800 with 0 Axes>"
      ]
     },
     "metadata": {},
     "output_type": "display_data"
    },
    {
     "data": {
      "text/plain": [
       "<Figure size 1000x800 with 0 Axes>"
      ]
     },
     "metadata": {},
     "output_type": "display_data"
    },
    {
     "data": {
      "text/plain": [
       "<Figure size 1000x800 with 0 Axes>"
      ]
     },
     "metadata": {},
     "output_type": "display_data"
    },
    {
     "data": {
      "text/plain": [
       "<Figure size 1000x800 with 0 Axes>"
      ]
     },
     "metadata": {},
     "output_type": "display_data"
    },
    {
     "data": {
      "text/plain": [
       "<Figure size 1000x800 with 0 Axes>"
      ]
     },
     "metadata": {},
     "output_type": "display_data"
    },
    {
     "data": {
      "text/plain": [
       "<Figure size 1000x800 with 0 Axes>"
      ]
     },
     "metadata": {},
     "output_type": "display_data"
    },
    {
     "data": {
      "text/plain": [
       "<Figure size 1000x800 with 0 Axes>"
      ]
     },
     "metadata": {},
     "output_type": "display_data"
    },
    {
     "data": {
      "text/plain": [
       "<Figure size 1000x800 with 0 Axes>"
      ]
     },
     "metadata": {},
     "output_type": "display_data"
    },
    {
     "data": {
      "text/plain": [
       "<Figure size 1000x800 with 0 Axes>"
      ]
     },
     "metadata": {},
     "output_type": "display_data"
    },
    {
     "data": {
      "text/plain": [
       "<Figure size 1000x800 with 0 Axes>"
      ]
     },
     "metadata": {},
     "output_type": "display_data"
    },
    {
     "data": {
      "text/plain": [
       "<Figure size 1000x800 with 0 Axes>"
      ]
     },
     "metadata": {},
     "output_type": "display_data"
    },
    {
     "data": {
      "text/plain": [
       "<Figure size 1000x800 with 0 Axes>"
      ]
     },
     "metadata": {},
     "output_type": "display_data"
    },
    {
     "data": {
      "text/plain": [
       "<Figure size 1000x800 with 0 Axes>"
      ]
     },
     "metadata": {},
     "output_type": "display_data"
    },
    {
     "data": {
      "text/plain": [
       "<Figure size 1000x800 with 0 Axes>"
      ]
     },
     "metadata": {},
     "output_type": "display_data"
    },
    {
     "data": {
      "text/plain": [
       "<Figure size 1000x800 with 0 Axes>"
      ]
     },
     "metadata": {},
     "output_type": "display_data"
    },
    {
     "data": {
      "text/plain": [
       "<Figure size 1000x800 with 0 Axes>"
      ]
     },
     "metadata": {},
     "output_type": "display_data"
    },
    {
     "data": {
      "text/plain": [
       "<Figure size 1000x800 with 0 Axes>"
      ]
     },
     "metadata": {},
     "output_type": "display_data"
    },
    {
     "data": {
      "text/plain": [
       "<Figure size 1000x800 with 0 Axes>"
      ]
     },
     "metadata": {},
     "output_type": "display_data"
    },
    {
     "data": {
      "text/plain": [
       "<Figure size 1000x800 with 0 Axes>"
      ]
     },
     "metadata": {},
     "output_type": "display_data"
    },
    {
     "data": {
      "text/plain": [
       "<Figure size 1000x800 with 0 Axes>"
      ]
     },
     "metadata": {},
     "output_type": "display_data"
    },
    {
     "data": {
      "text/plain": [
       "<Figure size 1000x800 with 0 Axes>"
      ]
     },
     "metadata": {},
     "output_type": "display_data"
    },
    {
     "data": {
      "text/plain": [
       "<Figure size 1000x800 with 0 Axes>"
      ]
     },
     "metadata": {},
     "output_type": "display_data"
    },
    {
     "data": {
      "text/plain": [
       "<Figure size 1000x800 with 0 Axes>"
      ]
     },
     "metadata": {},
     "output_type": "display_data"
    },
    {
     "data": {
      "text/plain": [
       "<Figure size 1000x800 with 0 Axes>"
      ]
     },
     "metadata": {},
     "output_type": "display_data"
    },
    {
     "data": {
      "text/plain": [
       "<Figure size 1000x800 with 0 Axes>"
      ]
     },
     "metadata": {},
     "output_type": "display_data"
    },
    {
     "data": {
      "text/plain": [
       "<Figure size 1000x800 with 0 Axes>"
      ]
     },
     "metadata": {},
     "output_type": "display_data"
    },
    {
     "data": {
      "text/plain": [
       "<Figure size 1000x800 with 0 Axes>"
      ]
     },
     "metadata": {},
     "output_type": "display_data"
    },
    {
     "data": {
      "text/plain": [
       "<Figure size 1000x800 with 0 Axes>"
      ]
     },
     "metadata": {},
     "output_type": "display_data"
    },
    {
     "data": {
      "text/plain": [
       "<Figure size 1000x800 with 0 Axes>"
      ]
     },
     "metadata": {},
     "output_type": "display_data"
    },
    {
     "data": {
      "text/plain": [
       "<Figure size 1000x800 with 0 Axes>"
      ]
     },
     "metadata": {},
     "output_type": "display_data"
    },
    {
     "data": {
      "text/plain": [
       "<Figure size 1000x800 with 0 Axes>"
      ]
     },
     "metadata": {},
     "output_type": "display_data"
    },
    {
     "data": {
      "text/plain": [
       "<Figure size 1000x800 with 0 Axes>"
      ]
     },
     "metadata": {},
     "output_type": "display_data"
    },
    {
     "data": {
      "text/plain": [
       "<Figure size 1000x800 with 0 Axes>"
      ]
     },
     "metadata": {},
     "output_type": "display_data"
    },
    {
     "data": {
      "text/plain": [
       "<Figure size 1000x800 with 0 Axes>"
      ]
     },
     "metadata": {},
     "output_type": "display_data"
    },
    {
     "data": {
      "text/plain": [
       "<Figure size 1000x800 with 0 Axes>"
      ]
     },
     "metadata": {},
     "output_type": "display_data"
    },
    {
     "data": {
      "text/plain": [
       "<Figure size 1000x800 with 0 Axes>"
      ]
     },
     "metadata": {},
     "output_type": "display_data"
    },
    {
     "data": {
      "text/plain": [
       "<Figure size 1000x800 with 0 Axes>"
      ]
     },
     "metadata": {},
     "output_type": "display_data"
    },
    {
     "data": {
      "text/plain": [
       "<Figure size 1000x800 with 0 Axes>"
      ]
     },
     "metadata": {},
     "output_type": "display_data"
    },
    {
     "data": {
      "text/plain": [
       "<Figure size 1000x800 with 0 Axes>"
      ]
     },
     "metadata": {},
     "output_type": "display_data"
    },
    {
     "data": {
      "text/plain": [
       "<Figure size 1000x800 with 0 Axes>"
      ]
     },
     "metadata": {},
     "output_type": "display_data"
    },
    {
     "data": {
      "text/plain": [
       "<Figure size 1000x800 with 0 Axes>"
      ]
     },
     "metadata": {},
     "output_type": "display_data"
    },
    {
     "data": {
      "text/plain": [
       "<Figure size 1000x800 with 0 Axes>"
      ]
     },
     "metadata": {},
     "output_type": "display_data"
    },
    {
     "data": {
      "text/plain": [
       "<Figure size 1000x800 with 0 Axes>"
      ]
     },
     "metadata": {},
     "output_type": "display_data"
    },
    {
     "data": {
      "text/plain": [
       "<Figure size 1000x800 with 0 Axes>"
      ]
     },
     "metadata": {},
     "output_type": "display_data"
    },
    {
     "data": {
      "text/plain": [
       "<Figure size 1000x800 with 0 Axes>"
      ]
     },
     "metadata": {},
     "output_type": "display_data"
    },
    {
     "data": {
      "text/plain": [
       "<Figure size 1000x800 with 0 Axes>"
      ]
     },
     "metadata": {},
     "output_type": "display_data"
    },
    {
     "data": {
      "text/plain": [
       "<Figure size 1000x800 with 0 Axes>"
      ]
     },
     "metadata": {},
     "output_type": "display_data"
    },
    {
     "data": {
      "text/plain": [
       "<Figure size 1000x800 with 0 Axes>"
      ]
     },
     "metadata": {},
     "output_type": "display_data"
    },
    {
     "data": {
      "text/plain": [
       "<Figure size 1000x800 with 0 Axes>"
      ]
     },
     "metadata": {},
     "output_type": "display_data"
    },
    {
     "data": {
      "text/plain": [
       "<Figure size 1000x800 with 0 Axes>"
      ]
     },
     "metadata": {},
     "output_type": "display_data"
    },
    {
     "data": {
      "text/plain": [
       "<Figure size 1000x800 with 0 Axes>"
      ]
     },
     "metadata": {},
     "output_type": "display_data"
    },
    {
     "data": {
      "text/plain": [
       "<Figure size 1000x800 with 0 Axes>"
      ]
     },
     "metadata": {},
     "output_type": "display_data"
    },
    {
     "data": {
      "text/plain": [
       "<Figure size 1000x800 with 0 Axes>"
      ]
     },
     "metadata": {},
     "output_type": "display_data"
    },
    {
     "data": {
      "text/plain": [
       "<Figure size 1000x800 with 0 Axes>"
      ]
     },
     "metadata": {},
     "output_type": "display_data"
    },
    {
     "data": {
      "text/plain": [
       "<Figure size 1000x800 with 0 Axes>"
      ]
     },
     "metadata": {},
     "output_type": "display_data"
    },
    {
     "data": {
      "text/plain": [
       "<Figure size 1000x800 with 0 Axes>"
      ]
     },
     "metadata": {},
     "output_type": "display_data"
    },
    {
     "data": {
      "text/plain": [
       "<Figure size 1000x800 with 0 Axes>"
      ]
     },
     "metadata": {},
     "output_type": "display_data"
    },
    {
     "data": {
      "text/plain": [
       "<Figure size 1000x800 with 0 Axes>"
      ]
     },
     "metadata": {},
     "output_type": "display_data"
    },
    {
     "data": {
      "text/plain": [
       "<Figure size 1000x800 with 0 Axes>"
      ]
     },
     "metadata": {},
     "output_type": "display_data"
    },
    {
     "data": {
      "text/plain": [
       "<Figure size 1000x800 with 0 Axes>"
      ]
     },
     "metadata": {},
     "output_type": "display_data"
    },
    {
     "data": {
      "text/plain": [
       "<Figure size 1000x800 with 0 Axes>"
      ]
     },
     "metadata": {},
     "output_type": "display_data"
    },
    {
     "data": {
      "text/plain": [
       "<Figure size 1000x800 with 0 Axes>"
      ]
     },
     "metadata": {},
     "output_type": "display_data"
    },
    {
     "data": {
      "text/plain": [
       "<Figure size 1000x800 with 0 Axes>"
      ]
     },
     "metadata": {},
     "output_type": "display_data"
    },
    {
     "data": {
      "text/plain": [
       "<Figure size 1000x800 with 0 Axes>"
      ]
     },
     "metadata": {},
     "output_type": "display_data"
    },
    {
     "data": {
      "text/plain": [
       "<Figure size 1000x800 with 0 Axes>"
      ]
     },
     "metadata": {},
     "output_type": "display_data"
    },
    {
     "data": {
      "text/plain": [
       "<Figure size 1000x800 with 0 Axes>"
      ]
     },
     "metadata": {},
     "output_type": "display_data"
    },
    {
     "data": {
      "text/plain": [
       "<Figure size 1000x800 with 0 Axes>"
      ]
     },
     "metadata": {},
     "output_type": "display_data"
    },
    {
     "data": {
      "text/plain": [
       "<Figure size 1000x800 with 0 Axes>"
      ]
     },
     "metadata": {},
     "output_type": "display_data"
    },
    {
     "data": {
      "text/plain": [
       "<Figure size 1000x800 with 0 Axes>"
      ]
     },
     "metadata": {},
     "output_type": "display_data"
    },
    {
     "data": {
      "text/plain": [
       "<Figure size 1000x800 with 0 Axes>"
      ]
     },
     "metadata": {},
     "output_type": "display_data"
    },
    {
     "data": {
      "text/plain": [
       "<Figure size 1000x800 with 0 Axes>"
      ]
     },
     "metadata": {},
     "output_type": "display_data"
    },
    {
     "data": {
      "text/plain": [
       "<Figure size 1000x800 with 0 Axes>"
      ]
     },
     "metadata": {},
     "output_type": "display_data"
    },
    {
     "data": {
      "text/plain": [
       "<Figure size 1000x800 with 0 Axes>"
      ]
     },
     "metadata": {},
     "output_type": "display_data"
    },
    {
     "data": {
      "text/plain": [
       "<Figure size 1000x800 with 0 Axes>"
      ]
     },
     "metadata": {},
     "output_type": "display_data"
    },
    {
     "data": {
      "text/plain": [
       "<Figure size 1000x800 with 0 Axes>"
      ]
     },
     "metadata": {},
     "output_type": "display_data"
    },
    {
     "data": {
      "text/plain": [
       "<Figure size 1000x800 with 0 Axes>"
      ]
     },
     "metadata": {},
     "output_type": "display_data"
    },
    {
     "data": {
      "text/plain": [
       "<Figure size 1000x800 with 0 Axes>"
      ]
     },
     "metadata": {},
     "output_type": "display_data"
    },
    {
     "data": {
      "text/plain": [
       "<Figure size 1000x800 with 0 Axes>"
      ]
     },
     "metadata": {},
     "output_type": "display_data"
    },
    {
     "data": {
      "text/plain": [
       "<Figure size 1000x800 with 0 Axes>"
      ]
     },
     "metadata": {},
     "output_type": "display_data"
    },
    {
     "data": {
      "text/plain": [
       "<Figure size 1000x800 with 0 Axes>"
      ]
     },
     "metadata": {},
     "output_type": "display_data"
    },
    {
     "data": {
      "text/plain": [
       "<Figure size 1000x800 with 0 Axes>"
      ]
     },
     "metadata": {},
     "output_type": "display_data"
    },
    {
     "data": {
      "text/plain": [
       "<Figure size 1000x800 with 0 Axes>"
      ]
     },
     "metadata": {},
     "output_type": "display_data"
    },
    {
     "data": {
      "text/plain": [
       "<Figure size 1000x800 with 0 Axes>"
      ]
     },
     "metadata": {},
     "output_type": "display_data"
    },
    {
     "data": {
      "text/plain": [
       "<Figure size 1000x800 with 0 Axes>"
      ]
     },
     "metadata": {},
     "output_type": "display_data"
    },
    {
     "data": {
      "text/plain": [
       "<Figure size 1000x800 with 0 Axes>"
      ]
     },
     "metadata": {},
     "output_type": "display_data"
    },
    {
     "data": {
      "text/plain": [
       "<Figure size 1000x800 with 0 Axes>"
      ]
     },
     "metadata": {},
     "output_type": "display_data"
    },
    {
     "data": {
      "text/plain": [
       "<Figure size 1000x800 with 0 Axes>"
      ]
     },
     "metadata": {},
     "output_type": "display_data"
    },
    {
     "data": {
      "text/plain": [
       "<Figure size 1000x800 with 0 Axes>"
      ]
     },
     "metadata": {},
     "output_type": "display_data"
    },
    {
     "data": {
      "text/plain": [
       "<Figure size 1000x800 with 0 Axes>"
      ]
     },
     "metadata": {},
     "output_type": "display_data"
    },
    {
     "data": {
      "text/plain": [
       "<Figure size 1000x800 with 0 Axes>"
      ]
     },
     "metadata": {},
     "output_type": "display_data"
    },
    {
     "data": {
      "text/plain": [
       "<Figure size 1000x800 with 0 Axes>"
      ]
     },
     "metadata": {},
     "output_type": "display_data"
    },
    {
     "data": {
      "text/plain": [
       "<Figure size 1000x800 with 0 Axes>"
      ]
     },
     "metadata": {},
     "output_type": "display_data"
    },
    {
     "data": {
      "text/plain": [
       "<Figure size 1000x800 with 0 Axes>"
      ]
     },
     "metadata": {},
     "output_type": "display_data"
    },
    {
     "data": {
      "text/plain": [
       "<Figure size 1000x800 with 0 Axes>"
      ]
     },
     "metadata": {},
     "output_type": "display_data"
    },
    {
     "data": {
      "text/plain": [
       "<Figure size 1000x800 with 0 Axes>"
      ]
     },
     "metadata": {},
     "output_type": "display_data"
    },
    {
     "data": {
      "text/plain": [
       "<Figure size 1000x800 with 0 Axes>"
      ]
     },
     "metadata": {},
     "output_type": "display_data"
    },
    {
     "data": {
      "text/plain": [
       "<Figure size 1000x800 with 0 Axes>"
      ]
     },
     "metadata": {},
     "output_type": "display_data"
    },
    {
     "data": {
      "text/plain": [
       "<Figure size 1000x800 with 0 Axes>"
      ]
     },
     "metadata": {},
     "output_type": "display_data"
    },
    {
     "data": {
      "text/plain": [
       "<Figure size 1000x800 with 0 Axes>"
      ]
     },
     "metadata": {},
     "output_type": "display_data"
    },
    {
     "data": {
      "text/plain": [
       "<Figure size 1000x800 with 0 Axes>"
      ]
     },
     "metadata": {},
     "output_type": "display_data"
    },
    {
     "data": {
      "text/plain": [
       "<Figure size 1000x800 with 0 Axes>"
      ]
     },
     "metadata": {},
     "output_type": "display_data"
    },
    {
     "data": {
      "text/plain": [
       "<Figure size 1000x800 with 0 Axes>"
      ]
     },
     "metadata": {},
     "output_type": "display_data"
    },
    {
     "data": {
      "text/plain": [
       "<Figure size 1000x800 with 0 Axes>"
      ]
     },
     "metadata": {},
     "output_type": "display_data"
    },
    {
     "data": {
      "text/plain": [
       "<Figure size 1000x800 with 0 Axes>"
      ]
     },
     "metadata": {},
     "output_type": "display_data"
    },
    {
     "data": {
      "text/plain": [
       "<Figure size 1000x800 with 0 Axes>"
      ]
     },
     "metadata": {},
     "output_type": "display_data"
    },
    {
     "data": {
      "text/plain": [
       "<Figure size 1000x800 with 0 Axes>"
      ]
     },
     "metadata": {},
     "output_type": "display_data"
    },
    {
     "data": {
      "text/plain": [
       "<Figure size 1000x800 with 0 Axes>"
      ]
     },
     "metadata": {},
     "output_type": "display_data"
    },
    {
     "data": {
      "text/plain": [
       "<Figure size 1000x800 with 0 Axes>"
      ]
     },
     "metadata": {},
     "output_type": "display_data"
    },
    {
     "data": {
      "text/plain": [
       "<Figure size 1000x800 with 0 Axes>"
      ]
     },
     "metadata": {},
     "output_type": "display_data"
    },
    {
     "data": {
      "text/plain": [
       "<Figure size 1000x800 with 0 Axes>"
      ]
     },
     "metadata": {},
     "output_type": "display_data"
    },
    {
     "data": {
      "text/plain": [
       "<Figure size 1000x800 with 0 Axes>"
      ]
     },
     "metadata": {},
     "output_type": "display_data"
    },
    {
     "data": {
      "text/plain": [
       "<Figure size 1000x800 with 0 Axes>"
      ]
     },
     "metadata": {},
     "output_type": "display_data"
    },
    {
     "data": {
      "text/plain": [
       "<Figure size 1000x800 with 0 Axes>"
      ]
     },
     "metadata": {},
     "output_type": "display_data"
    },
    {
     "data": {
      "text/plain": [
       "<Figure size 1000x800 with 0 Axes>"
      ]
     },
     "metadata": {},
     "output_type": "display_data"
    },
    {
     "data": {
      "text/plain": [
       "<Figure size 1000x800 with 0 Axes>"
      ]
     },
     "metadata": {},
     "output_type": "display_data"
    },
    {
     "data": {
      "text/plain": [
       "<Figure size 1000x800 with 0 Axes>"
      ]
     },
     "metadata": {},
     "output_type": "display_data"
    },
    {
     "data": {
      "text/plain": [
       "<Figure size 1000x800 with 0 Axes>"
      ]
     },
     "metadata": {},
     "output_type": "display_data"
    },
    {
     "data": {
      "text/plain": [
       "<Figure size 1000x800 with 0 Axes>"
      ]
     },
     "metadata": {},
     "output_type": "display_data"
    },
    {
     "data": {
      "text/plain": [
       "<Figure size 1000x800 with 0 Axes>"
      ]
     },
     "metadata": {},
     "output_type": "display_data"
    },
    {
     "data": {
      "text/plain": [
       "<Figure size 1000x800 with 0 Axes>"
      ]
     },
     "metadata": {},
     "output_type": "display_data"
    },
    {
     "data": {
      "text/plain": [
       "<Figure size 1000x800 with 0 Axes>"
      ]
     },
     "metadata": {},
     "output_type": "display_data"
    },
    {
     "data": {
      "text/plain": [
       "<Figure size 1000x800 with 0 Axes>"
      ]
     },
     "metadata": {},
     "output_type": "display_data"
    },
    {
     "data": {
      "text/plain": [
       "<Figure size 1000x800 with 0 Axes>"
      ]
     },
     "metadata": {},
     "output_type": "display_data"
    },
    {
     "data": {
      "text/plain": [
       "<Figure size 1000x800 with 0 Axes>"
      ]
     },
     "metadata": {},
     "output_type": "display_data"
    }
   ],
   "source": [
    "custom_light_green = (0.4, 0.6, 0.4)  \n",
    "custom_light_blue = (0.4, 0.4, 0.6) \n",
    "\n",
    "x_range = (0, 100)\n",
    "y_range = (0, 100)\n",
    "# will generate a random number between 3 and 5, inclusive.\n",
    "num_obstacles = np.random.randint(3, 6) \n",
    "obstacles = []\n",
    "image_files = []\n",
    "\n",
    "iteration = 0\n",
    "while iteration < num_obstacles:\n",
    "    x_range = np.random.randint(30, 100)\n",
    "    y_range = np.random.randint(60, 100)\n",
    "    obstacle = generate_random_polygon_obstacle((3, 5), x_range, y_range)\n",
    "\n",
    "# checking for possible collisions\n",
    "    overlapping = False\n",
    "    obstacle_shapely = ShapelyPolygon(obstacle.get_xy())\n",
    "    for prev_obstacle in obstacles: \n",
    "        prev_obstacle_shapely = ShapelyPolygon(prev_obstacle.get_xy())\n",
    "        if obstacle_shapely.intersects(prev_obstacle_shapely):\n",
    "            overlapping = True\n",
    "            break\n",
    "    if not overlapping:\n",
    "        obstacles.append(obstacle)\n",
    "        iteration += 1\n",
    "\n",
    "draw_background()\n",
    "draw_polygon_obstacles(obstacles)\n",
    "\n",
    "\n",
    "s = False\n",
    "g = False\n",
    "\n",
    "while s == False:\n",
    "    start_point = generate_random_point(0, 35) \n",
    "    if is_collision_free(start_point, obstacles):\n",
    "        plt.plot(start_point.x, start_point.y, marker='o', markersize=10, color= \"green\", label='Start')\n",
    "        s = True\n",
    "        break  \n",
    "\n",
    "while g == False:\n",
    "    goal_point = generate_random_point(60, 100) \n",
    "    if is_collision_free(goal_point, obstacles):\n",
    "        plt.plot(goal_point.x, goal_point.y, marker='o', markersize=10, color= \"blue\", label='Goal')\n",
    "        g = True\n",
    "        break  \n",
    "\n",
    "# Eexecution of the RRT algorithm\n",
    "rrt_trees = rrt(1000, obstacles, start_point, goal_point)\n",
    "\n",
    "# Find the final path\n",
    "final_path = []\n",
    "current_node = rrt_trees[-1][-1]  # Last node of the last RRT tree\n",
    "while current_node:\n",
    "    final_path.append((current_node.x, current_node.y))\n",
    "    current_node = current_node.parent\n",
    "\n",
    "\n",
    "\n",
    "gif_filename = 'rrt_animation.gif'\n",
    "with imageio.get_writer(gif_filename, mode='I') as writer:\n",
    "    for i, tree in enumerate(rrt_trees):\n",
    "        print(f\"Iteration {i+1}/{len(rrt_trees)}\")  # Print the current iteration number\n",
    "        \n",
    "        plt.figure(figsize=(10, 8))\n",
    "        draw_background()\n",
    "        draw_polygon_obstacles(obstacles)\n",
    "        for node in tree:\n",
    "            if node.parent:\n",
    "                plt.plot([node.x, node.parent.x], [node.y, node.parent.y], color=custom_light_green, linewidth=3)\n",
    "        plt.plot(start_point.x, start_point.y, marker='o', markersize=10, color=\"green\", label='Start')\n",
    "        plt.plot(goal_point.x, goal_point.y, marker='o', markersize=10, color=\"blue\", label='Goal')\n",
    "        plt.legend()\n",
    "        plt.title(f'RRT Iteration {i+1}')\n",
    "        \n",
    "        buf = io.BytesIO()\n",
    "        plt.savefig(buf, format='png')\n",
    "        buf.seek(0)\n",
    "        image = imageio.imread(buf)\n",
    "        writer.append_data(image)\n",
    "        \n",
    "        plt.close()  \n",
    "\n",
    "    if final_path:\n",
    "        plt.figure(figsize=(10, 8))\n",
    "        draw_background()\n",
    "        draw_polygon_obstacles(obstacles)\n",
    "        for node in tree:\n",
    "            if node.parent:\n",
    "                plt.plot([node.x, node.parent.x], [node.y, node.parent.y], color=custom_light_green, linewidth=3)\n",
    "        plt.plot(start_point.x, start_point.y, marker='o', markersize=10, color=\"green\", label='Start')\n",
    "        plt.plot(goal_point.x, goal_point.y, marker='o', markersize=10, color=\"blue\", label='Goal')\n",
    "        path_x, path_y = zip(*final_path)\n",
    "        plt.plot(path_x, path_y, color='red', linewidth=4, alpha=0.7, label='Final Path')\n",
    "        plt.legend()\n",
    "        plt.title(f'Final Path: Iteration {i+1}')\n",
    "        \n",
    "        buf = io.BytesIO()\n",
    "        plt.savefig(buf, format='png')\n",
    "        buf.seek(0)\n",
    "        image = imageio.imread(buf)\n",
    "        writer.append_data(image)\n",
    "        \n",
    "        plt.close() \n",
    "\n",
    "\n",
    "\n",
    "print(f\"GIF created: {gif_filename}\")"
   ]
  },
  {
   "cell_type": "markdown",
   "metadata": {},
   "source": [
    "__*Obstacle generation:*__\n",
    "\n",
    "Initially, the x- and y-axis range (x_range and y_range) are defined and a random number of obstacles between 3 and 5 (inclusive) are generated.\n",
    "A loop is run until all desired obstacles are generated, ensuring that they do not overlap with previous obstacles.\n",
    "The obstacles are represented as randomly generated polygons using the generate_random_polygon_obstacle function.\n",
    "\n",
    "__*Generation of start_point and goal_point:*__\n",
    "\n",
    "A start point (start_point) and destination point (goal_point) are randomly generated, ensuring that both do not overlap with obstacles.\n",
    "\n",
    "__*Execution of the RRT algorithm:*__\n",
    "\n",
    "The RRT function is called, which takes as input the desired number of iterations, obstacles, starting point and destination point.\n",
    "The RRT algorithm is executed for a specified number of iterations, adding nodes to the RRT tree in order to explore the search space. An animated GIF file is created to visualize the evolution of the RRT algorithm during iterations."
   ]
  },
  {
   "cell_type": "code",
   "execution_count": 15,
   "metadata": {},
   "outputs": [
    {
     "name": "stderr",
     "output_type": "stream",
     "text": [
      "/tmp/ipykernel_19616/3923774873.py:22: DeprecationWarning: Starting with ImageIO v3 the behavior of this function will switch to that of iio.v3.imread. To keep the current behavior (and make this warning disappear) use `import imageio.v2 as imageio` or call `imageio.v2.imread` directly.\n",
      "  image = imageio.imread(buf)\n",
      "/tmp/ipykernel_19616/3923774873.py:52: DeprecationWarning: Starting with ImageIO v3 the behavior of this function will switch to that of iio.v3.imread. To keep the current behavior (and make this warning disappear) use `import imageio.v2 as imageio` or call `imageio.v2.imread` directly.\n",
      "  image = imageio.imread(buf)\n"
     ]
    },
    {
     "name": "stdout",
     "output_type": "stream",
     "text": [
      "Iteration 1/100\n",
      "Iteration 2/100\n",
      "Iteration 3/100\n",
      "Iteration 4/100\n",
      "Iteration 5/100\n",
      "Iteration 6/100\n",
      "Iteration 7/100\n",
      "Iteration 8/100\n",
      "Iteration 9/100\n",
      "Iteration 10/100\n",
      "Iteration 11/100\n",
      "Iteration 12/100\n",
      "Iteration 13/100\n",
      "Iteration 14/100\n",
      "Iteration 15/100\n",
      "Iteration 16/100\n",
      "Iteration 17/100\n",
      "Iteration 18/100\n",
      "Iteration 19/100\n",
      "Iteration 20/100\n"
     ]
    },
    {
     "name": "stderr",
     "output_type": "stream",
     "text": [
      "/tmp/ipykernel_19616/2647180751.py:2: RuntimeWarning: More than 20 figures have been opened. Figures created through the pyplot interface (`matplotlib.pyplot.figure`) are retained until explicitly closed and may consume too much memory. (To control this warning, see the rcParam `figure.max_open_warning`). Consider using `matplotlib.pyplot.close()`.\n",
      "  plt.figure(figsize=(10, 8))\n",
      "/tmp/ipykernel_19616/3923774873.py:28: RuntimeWarning: More than 20 figures have been opened. Figures created through the pyplot interface (`matplotlib.pyplot.figure`) are retained until explicitly closed and may consume too much memory. (To control this warning, see the rcParam `figure.max_open_warning`). Consider using `matplotlib.pyplot.close()`.\n",
      "  plt.figure(figsize=(10, 8))\n"
     ]
    },
    {
     "name": "stdout",
     "output_type": "stream",
     "text": [
      "Iteration 21/100\n",
      "Iteration 22/100\n",
      "Iteration 23/100\n",
      "Iteration 24/100\n",
      "Iteration 25/100\n",
      "Iteration 26/100\n",
      "Iteration 27/100\n",
      "Iteration 28/100\n",
      "Iteration 29/100\n",
      "Iteration 30/100\n",
      "Iteration 31/100\n",
      "Iteration 32/100\n",
      "Iteration 33/100\n",
      "Iteration 34/100\n",
      "Iteration 35/100\n",
      "Iteration 36/100\n",
      "Iteration 37/100\n",
      "Iteration 38/100\n",
      "Iteration 39/100\n",
      "Iteration 40/100\n",
      "Iteration 41/100\n",
      "Iteration 42/100\n",
      "Iteration 43/100\n",
      "Iteration 44/100\n",
      "Iteration 45/100\n",
      "Iteration 46/100\n",
      "Iteration 47/100\n",
      "Iteration 48/100\n",
      "Iteration 49/100\n",
      "Iteration 50/100\n",
      "Iteration 51/100\n",
      "Iteration 52/100\n",
      "Iteration 53/100\n",
      "Iteration 54/100\n",
      "Iteration 55/100\n",
      "Iteration 56/100\n",
      "Iteration 57/100\n",
      "Iteration 58/100\n",
      "Iteration 59/100\n",
      "Iteration 60/100\n",
      "Iteration 61/100\n",
      "Iteration 62/100\n",
      "Iteration 63/100\n",
      "Iteration 64/100\n",
      "Iteration 65/100\n",
      "Iteration 66/100\n",
      "Iteration 67/100\n",
      "Iteration 68/100\n",
      "Iteration 69/100\n",
      "Iteration 70/100\n",
      "Iteration 71/100\n",
      "Iteration 72/100\n",
      "Iteration 73/100\n",
      "Iteration 74/100\n",
      "Iteration 75/100\n",
      "Iteration 76/100\n",
      "Iteration 77/100\n",
      "Iteration 78/100\n",
      "Iteration 79/100\n",
      "Iteration 80/100\n",
      "Iteration 81/100\n",
      "Iteration 82/100\n",
      "Iteration 83/100\n",
      "Iteration 84/100\n",
      "Iteration 85/100\n",
      "Iteration 86/100\n",
      "Iteration 87/100\n",
      "Iteration 88/100\n",
      "Iteration 89/100\n",
      "Iteration 90/100\n",
      "Iteration 91/100\n",
      "Iteration 92/100\n",
      "Iteration 93/100\n",
      "Iteration 94/100\n",
      "Iteration 95/100\n",
      "Iteration 96/100\n",
      "Iteration 97/100\n",
      "Iteration 98/100\n",
      "Iteration 99/100\n",
      "Iteration 100/100\n",
      "GIF created: rrt_bidirectional_animation.gif\n"
     ]
    },
    {
     "data": {
      "text/plain": [
       "<Figure size 1000x800 with 0 Axes>"
      ]
     },
     "metadata": {},
     "output_type": "display_data"
    },
    {
     "data": {
      "image/png": "[encoded data removed]",
      "text/plain": [
       "<Figure size 1000x800 with 1 Axes>"
      ]
     },
     "metadata": {},
     "output_type": "display_data"
    },
    {
     "data": {
      "text/plain": [
       "<Figure size 1000x800 with 0 Axes>"
      ]
     },
     "metadata": {},
     "output_type": "display_data"
    },
    {
     "data": {
      "text/plain": [
       "<Figure size 1000x800 with 0 Axes>"
      ]
     },
     "metadata": {},
     "output_type": "display_data"
    },
    {
     "data": {
      "text/plain": [
       "<Figure size 1000x800 with 0 Axes>"
      ]
     },
     "metadata": {},
     "output_type": "display_data"
    },
    {
     "data": {
      "text/plain": [
       "<Figure size 1000x800 with 0 Axes>"
      ]
     },
     "metadata": {},
     "output_type": "display_data"
    },
    {
     "data": {
      "text/plain": [
       "<Figure size 1000x800 with 0 Axes>"
      ]
     },
     "metadata": {},
     "output_type": "display_data"
    },
    {
     "data": {
      "text/plain": [
       "<Figure size 1000x800 with 0 Axes>"
      ]
     },
     "metadata": {},
     "output_type": "display_data"
    },
    {
     "data": {
      "text/plain": [
       "<Figure size 1000x800 with 0 Axes>"
      ]
     },
     "metadata": {},
     "output_type": "display_data"
    },
    {
     "data": {
      "text/plain": [
       "<Figure size 1000x800 with 0 Axes>"
      ]
     },
     "metadata": {},
     "output_type": "display_data"
    },
    {
     "data": {
      "text/plain": [
       "<Figure size 1000x800 with 0 Axes>"
      ]
     },
     "metadata": {},
     "output_type": "display_data"
    },
    {
     "data": {
      "text/plain": [
       "<Figure size 1000x800 with 0 Axes>"
      ]
     },
     "metadata": {},
     "output_type": "display_data"
    },
    {
     "data": {
      "text/plain": [
       "<Figure size 1000x800 with 0 Axes>"
      ]
     },
     "metadata": {},
     "output_type": "display_data"
    },
    {
     "data": {
      "text/plain": [
       "<Figure size 1000x800 with 0 Axes>"
      ]
     },
     "metadata": {},
     "output_type": "display_data"
    },
    {
     "data": {
      "text/plain": [
       "<Figure size 1000x800 with 0 Axes>"
      ]
     },
     "metadata": {},
     "output_type": "display_data"
    },
    {
     "data": {
      "text/plain": [
       "<Figure size 1000x800 with 0 Axes>"
      ]
     },
     "metadata": {},
     "output_type": "display_data"
    },
    {
     "data": {
      "text/plain": [
       "<Figure size 1000x800 with 0 Axes>"
      ]
     },
     "metadata": {},
     "output_type": "display_data"
    },
    {
     "data": {
      "text/plain": [
       "<Figure size 1000x800 with 0 Axes>"
      ]
     },
     "metadata": {},
     "output_type": "display_data"
    },
    {
     "data": {
      "text/plain": [
       "<Figure size 1000x800 with 0 Axes>"
      ]
     },
     "metadata": {},
     "output_type": "display_data"
    },
    {
     "data": {
      "text/plain": [
       "<Figure size 1000x800 with 0 Axes>"
      ]
     },
     "metadata": {},
     "output_type": "display_data"
    },
    {
     "data": {
      "text/plain": [
       "<Figure size 1000x800 with 0 Axes>"
      ]
     },
     "metadata": {},
     "output_type": "display_data"
    },
    {
     "data": {
      "text/plain": [
       "<Figure size 1000x800 with 0 Axes>"
      ]
     },
     "metadata": {},
     "output_type": "display_data"
    },
    {
     "data": {
      "text/plain": [
       "<Figure size 1000x800 with 0 Axes>"
      ]
     },
     "metadata": {},
     "output_type": "display_data"
    },
    {
     "data": {
      "text/plain": [
       "<Figure size 1000x800 with 0 Axes>"
      ]
     },
     "metadata": {},
     "output_type": "display_data"
    },
    {
     "data": {
      "text/plain": [
       "<Figure size 1000x800 with 0 Axes>"
      ]
     },
     "metadata": {},
     "output_type": "display_data"
    },
    {
     "data": {
      "text/plain": [
       "<Figure size 1000x800 with 0 Axes>"
      ]
     },
     "metadata": {},
     "output_type": "display_data"
    },
    {
     "data": {
      "text/plain": [
       "<Figure size 1000x800 with 0 Axes>"
      ]
     },
     "metadata": {},
     "output_type": "display_data"
    },
    {
     "data": {
      "text/plain": [
       "<Figure size 1000x800 with 0 Axes>"
      ]
     },
     "metadata": {},
     "output_type": "display_data"
    },
    {
     "data": {
      "text/plain": [
       "<Figure size 1000x800 with 0 Axes>"
      ]
     },
     "metadata": {},
     "output_type": "display_data"
    },
    {
     "data": {
      "text/plain": [
       "<Figure size 1000x800 with 0 Axes>"
      ]
     },
     "metadata": {},
     "output_type": "display_data"
    },
    {
     "data": {
      "text/plain": [
       "<Figure size 1000x800 with 0 Axes>"
      ]
     },
     "metadata": {},
     "output_type": "display_data"
    },
    {
     "data": {
      "text/plain": [
       "<Figure size 1000x800 with 0 Axes>"
      ]
     },
     "metadata": {},
     "output_type": "display_data"
    },
    {
     "data": {
      "text/plain": [
       "<Figure size 1000x800 with 0 Axes>"
      ]
     },
     "metadata": {},
     "output_type": "display_data"
    },
    {
     "data": {
      "text/plain": [
       "<Figure size 1000x800 with 0 Axes>"
      ]
     },
     "metadata": {},
     "output_type": "display_data"
    },
    {
     "data": {
      "text/plain": [
       "<Figure size 1000x800 with 0 Axes>"
      ]
     },
     "metadata": {},
     "output_type": "display_data"
    },
    {
     "data": {
      "text/plain": [
       "<Figure size 1000x800 with 0 Axes>"
      ]
     },
     "metadata": {},
     "output_type": "display_data"
    },
    {
     "data": {
      "text/plain": [
       "<Figure size 1000x800 with 0 Axes>"
      ]
     },
     "metadata": {},
     "output_type": "display_data"
    },
    {
     "data": {
      "text/plain": [
       "<Figure size 1000x800 with 0 Axes>"
      ]
     },
     "metadata": {},
     "output_type": "display_data"
    },
    {
     "data": {
      "text/plain": [
       "<Figure size 1000x800 with 0 Axes>"
      ]
     },
     "metadata": {},
     "output_type": "display_data"
    },
    {
     "data": {
      "text/plain": [
       "<Figure size 1000x800 with 0 Axes>"
      ]
     },
     "metadata": {},
     "output_type": "display_data"
    },
    {
     "data": {
      "text/plain": [
       "<Figure size 1000x800 with 0 Axes>"
      ]
     },
     "metadata": {},
     "output_type": "display_data"
    },
    {
     "data": {
      "text/plain": [
       "<Figure size 1000x800 with 0 Axes>"
      ]
     },
     "metadata": {},
     "output_type": "display_data"
    },
    {
     "data": {
      "text/plain": [
       "<Figure size 1000x800 with 0 Axes>"
      ]
     },
     "metadata": {},
     "output_type": "display_data"
    },
    {
     "data": {
      "text/plain": [
       "<Figure size 1000x800 with 0 Axes>"
      ]
     },
     "metadata": {},
     "output_type": "display_data"
    },
    {
     "data": {
      "text/plain": [
       "<Figure size 1000x800 with 0 Axes>"
      ]
     },
     "metadata": {},
     "output_type": "display_data"
    },
    {
     "data": {
      "text/plain": [
       "<Figure size 1000x800 with 0 Axes>"
      ]
     },
     "metadata": {},
     "output_type": "display_data"
    },
    {
     "data": {
      "text/plain": [
       "<Figure size 1000x800 with 0 Axes>"
      ]
     },
     "metadata": {},
     "output_type": "display_data"
    },
    {
     "data": {
      "text/plain": [
       "<Figure size 1000x800 with 0 Axes>"
      ]
     },
     "metadata": {},
     "output_type": "display_data"
    },
    {
     "data": {
      "text/plain": [
       "<Figure size 1000x800 with 0 Axes>"
      ]
     },
     "metadata": {},
     "output_type": "display_data"
    },
    {
     "data": {
      "text/plain": [
       "<Figure size 1000x800 with 0 Axes>"
      ]
     },
     "metadata": {},
     "output_type": "display_data"
    },
    {
     "data": {
      "text/plain": [
       "<Figure size 1000x800 with 0 Axes>"
      ]
     },
     "metadata": {},
     "output_type": "display_data"
    },
    {
     "data": {
      "text/plain": [
       "<Figure size 1000x800 with 0 Axes>"
      ]
     },
     "metadata": {},
     "output_type": "display_data"
    },
    {
     "data": {
      "text/plain": [
       "<Figure size 1000x800 with 0 Axes>"
      ]
     },
     "metadata": {},
     "output_type": "display_data"
    },
    {
     "data": {
      "text/plain": [
       "<Figure size 1000x800 with 0 Axes>"
      ]
     },
     "metadata": {},
     "output_type": "display_data"
    },
    {
     "data": {
      "text/plain": [
       "<Figure size 1000x800 with 0 Axes>"
      ]
     },
     "metadata": {},
     "output_type": "display_data"
    },
    {
     "data": {
      "text/plain": [
       "<Figure size 1000x800 with 0 Axes>"
      ]
     },
     "metadata": {},
     "output_type": "display_data"
    },
    {
     "data": {
      "text/plain": [
       "<Figure size 1000x800 with 0 Axes>"
      ]
     },
     "metadata": {},
     "output_type": "display_data"
    },
    {
     "data": {
      "text/plain": [
       "<Figure size 1000x800 with 0 Axes>"
      ]
     },
     "metadata": {},
     "output_type": "display_data"
    },
    {
     "data": {
      "text/plain": [
       "<Figure size 1000x800 with 0 Axes>"
      ]
     },
     "metadata": {},
     "output_type": "display_data"
    },
    {
     "data": {
      "text/plain": [
       "<Figure size 1000x800 with 0 Axes>"
      ]
     },
     "metadata": {},
     "output_type": "display_data"
    },
    {
     "data": {
      "text/plain": [
       "<Figure size 1000x800 with 0 Axes>"
      ]
     },
     "metadata": {},
     "output_type": "display_data"
    },
    {
     "data": {
      "text/plain": [
       "<Figure size 1000x800 with 0 Axes>"
      ]
     },
     "metadata": {},
     "output_type": "display_data"
    },
    {
     "data": {
      "text/plain": [
       "<Figure size 1000x800 with 0 Axes>"
      ]
     },
     "metadata": {},
     "output_type": "display_data"
    },
    {
     "data": {
      "text/plain": [
       "<Figure size 1000x800 with 0 Axes>"
      ]
     },
     "metadata": {},
     "output_type": "display_data"
    },
    {
     "data": {
      "text/plain": [
       "<Figure size 1000x800 with 0 Axes>"
      ]
     },
     "metadata": {},
     "output_type": "display_data"
    },
    {
     "data": {
      "text/plain": [
       "<Figure size 1000x800 with 0 Axes>"
      ]
     },
     "metadata": {},
     "output_type": "display_data"
    },
    {
     "data": {
      "text/plain": [
       "<Figure size 1000x800 with 0 Axes>"
      ]
     },
     "metadata": {},
     "output_type": "display_data"
    },
    {
     "data": {
      "text/plain": [
       "<Figure size 1000x800 with 0 Axes>"
      ]
     },
     "metadata": {},
     "output_type": "display_data"
    },
    {
     "data": {
      "text/plain": [
       "<Figure size 1000x800 with 0 Axes>"
      ]
     },
     "metadata": {},
     "output_type": "display_data"
    },
    {
     "data": {
      "text/plain": [
       "<Figure size 1000x800 with 0 Axes>"
      ]
     },
     "metadata": {},
     "output_type": "display_data"
    },
    {
     "data": {
      "text/plain": [
       "<Figure size 1000x800 with 0 Axes>"
      ]
     },
     "metadata": {},
     "output_type": "display_data"
    },
    {
     "data": {
      "text/plain": [
       "<Figure size 1000x800 with 0 Axes>"
      ]
     },
     "metadata": {},
     "output_type": "display_data"
    },
    {
     "data": {
      "text/plain": [
       "<Figure size 1000x800 with 0 Axes>"
      ]
     },
     "metadata": {},
     "output_type": "display_data"
    },
    {
     "data": {
      "text/plain": [
       "<Figure size 1000x800 with 0 Axes>"
      ]
     },
     "metadata": {},
     "output_type": "display_data"
    },
    {
     "data": {
      "text/plain": [
       "<Figure size 1000x800 with 0 Axes>"
      ]
     },
     "metadata": {},
     "output_type": "display_data"
    },
    {
     "data": {
      "text/plain": [
       "<Figure size 1000x800 with 0 Axes>"
      ]
     },
     "metadata": {},
     "output_type": "display_data"
    },
    {
     "data": {
      "text/plain": [
       "<Figure size 1000x800 with 0 Axes>"
      ]
     },
     "metadata": {},
     "output_type": "display_data"
    },
    {
     "data": {
      "text/plain": [
       "<Figure size 1000x800 with 0 Axes>"
      ]
     },
     "metadata": {},
     "output_type": "display_data"
    },
    {
     "data": {
      "text/plain": [
       "<Figure size 1000x800 with 0 Axes>"
      ]
     },
     "metadata": {},
     "output_type": "display_data"
    },
    {
     "data": {
      "text/plain": [
       "<Figure size 1000x800 with 0 Axes>"
      ]
     },
     "metadata": {},
     "output_type": "display_data"
    },
    {
     "data": {
      "text/plain": [
       "<Figure size 1000x800 with 0 Axes>"
      ]
     },
     "metadata": {},
     "output_type": "display_data"
    },
    {
     "data": {
      "text/plain": [
       "<Figure size 1000x800 with 0 Axes>"
      ]
     },
     "metadata": {},
     "output_type": "display_data"
    },
    {
     "data": {
      "text/plain": [
       "<Figure size 1000x800 with 0 Axes>"
      ]
     },
     "metadata": {},
     "output_type": "display_data"
    },
    {
     "data": {
      "text/plain": [
       "<Figure size 1000x800 with 0 Axes>"
      ]
     },
     "metadata": {},
     "output_type": "display_data"
    },
    {
     "data": {
      "text/plain": [
       "<Figure size 1000x800 with 0 Axes>"
      ]
     },
     "metadata": {},
     "output_type": "display_data"
    },
    {
     "data": {
      "text/plain": [
       "<Figure size 1000x800 with 0 Axes>"
      ]
     },
     "metadata": {},
     "output_type": "display_data"
    },
    {
     "data": {
      "text/plain": [
       "<Figure size 1000x800 with 0 Axes>"
      ]
     },
     "metadata": {},
     "output_type": "display_data"
    },
    {
     "data": {
      "text/plain": [
       "<Figure size 1000x800 with 0 Axes>"
      ]
     },
     "metadata": {},
     "output_type": "display_data"
    },
    {
     "data": {
      "text/plain": [
       "<Figure size 1000x800 with 0 Axes>"
      ]
     },
     "metadata": {},
     "output_type": "display_data"
    },
    {
     "data": {
      "text/plain": [
       "<Figure size 1000x800 with 0 Axes>"
      ]
     },
     "metadata": {},
     "output_type": "display_data"
    },
    {
     "data": {
      "text/plain": [
       "<Figure size 1000x800 with 0 Axes>"
      ]
     },
     "metadata": {},
     "output_type": "display_data"
    },
    {
     "data": {
      "text/plain": [
       "<Figure size 1000x800 with 0 Axes>"
      ]
     },
     "metadata": {},
     "output_type": "display_data"
    },
    {
     "data": {
      "text/plain": [
       "<Figure size 1000x800 with 0 Axes>"
      ]
     },
     "metadata": {},
     "output_type": "display_data"
    },
    {
     "data": {
      "text/plain": [
       "<Figure size 1000x800 with 0 Axes>"
      ]
     },
     "metadata": {},
     "output_type": "display_data"
    },
    {
     "data": {
      "text/plain": [
       "<Figure size 1000x800 with 0 Axes>"
      ]
     },
     "metadata": {},
     "output_type": "display_data"
    },
    {
     "data": {
      "text/plain": [
       "<Figure size 1000x800 with 0 Axes>"
      ]
     },
     "metadata": {},
     "output_type": "display_data"
    },
    {
     "data": {
      "text/plain": [
       "<Figure size 1000x800 with 0 Axes>"
      ]
     },
     "metadata": {},
     "output_type": "display_data"
    },
    {
     "data": {
      "text/plain": [
       "<Figure size 1000x800 with 0 Axes>"
      ]
     },
     "metadata": {},
     "output_type": "display_data"
    },
    {
     "data": {
      "text/plain": [
       "<Figure size 1000x800 with 0 Axes>"
      ]
     },
     "metadata": {},
     "output_type": "display_data"
    },
    {
     "data": {
      "text/plain": [
       "<Figure size 1000x800 with 0 Axes>"
      ]
     },
     "metadata": {},
     "output_type": "display_data"
    },
    {
     "data": {
      "text/plain": [
       "<Figure size 1000x800 with 0 Axes>"
      ]
     },
     "metadata": {},
     "output_type": "display_data"
    },
    {
     "data": {
      "text/plain": [
       "<Figure size 1000x800 with 0 Axes>"
      ]
     },
     "metadata": {},
     "output_type": "display_data"
    }
   ],
   "source": [
    "# Execution of the RRT bidirectional algorithm\n",
    "final_path, rrt_trees = rrt_bidirectional(1000, obstacles, start_point, goal_point)\n",
    "\n",
    "# Create gif\n",
    "gif_filename = 'rrt_bidirectional_animation.gif'\n",
    "\n",
    "# Create gif frames\n",
    "with imageio.get_writer(gif_filename, mode='I') as writer:\n",
    "    # Draw initial background without any paths\n",
    "    plt.figure(figsize=(10, 8))\n",
    "    draw_background()\n",
    "    draw_polygon_obstacles(obstacles)\n",
    "    plt.plot(start_point.x, start_point.y, marker='o', markersize=10, color='green', label='Start')\n",
    "    plt.plot(goal_point.x, goal_point.y, marker='o', markersize=10, color='blue', label='Goal')\n",
    "    plt.legend()\n",
    "    plt.title('Initial State')\n",
    "    \n",
    "    # Save initial frame\n",
    "    buf = io.BytesIO()\n",
    "    plt.savefig(buf, format='png')\n",
    "    buf.seek(0)\n",
    "    image = imageio.imread(buf)\n",
    "    writer.append_data(image)\n",
    "\n",
    "    # Create gif frames for each iteration\n",
    "    for i, (tree_start, tree_goal) in enumerate(rrt_trees):\n",
    "        print(f\"Iteration {i+1}/{len(rrt_trees)}\")  # Print the current iteration number\n",
    "        plt.figure(figsize=(10, 8))\n",
    "        draw_background()\n",
    "        draw_polygon_obstacles(obstacles)\n",
    "        for node_start in tree_start:\n",
    "            if node_start.parent:\n",
    "                plt.plot([node_start.x, node_start.parent.x], [node_start.y, node_start.parent.y], color=custom_light_green, linewidth=3)\n",
    "        for node_goal in tree_goal:\n",
    "            if node_goal.parent:\n",
    "                plt.plot([node_goal.x, node_goal.parent.x], [node_goal.y, node_goal.parent.y],  color=custom_light_blue, linewidth=3)\n",
    "        plt.plot(start_point.x, start_point.y, marker='o', markersize=10, color='green', label='Start')\n",
    "        plt.plot(goal_point.x, goal_point.y, marker='o', markersize=10, color='blue', label='Goal')\n",
    "        \n",
    "        # Trace the final route in red if it exists\n",
    "        if i == len(rrt_trees) - 1 and final_path:\n",
    "            for node_start, node_goal in zip(final_path[:-1], final_path[1:]):\n",
    "                plt.plot([node_start.x, node_goal.x], [node_start.y, node_goal.y], color='red', linewidth=4, alpha=1.0)\n",
    "        \n",
    "        plt.legend()\n",
    "        plt.title(f'RRT Bidirectional Iteration {i+1}')\n",
    "        \n",
    "        # Get the bytes of the image data\n",
    "        buf = io.BytesIO()\n",
    "        plt.savefig(buf, format='png')\n",
    "        buf.seek(0)\n",
    "        image = imageio.imread(buf)\n",
    "        writer.append_data(image)\n",
    "        \n",
    "        plt.close()  \n",
    "\n",
    "print(f\"GIF created: {gif_filename}\")"
   ]
  },
  {
   "cell_type": "markdown",
   "metadata": {},
   "source": [
    "__*Execution of the RRT_bidirectional algorithm:*__\n",
    "\n",
    "This code block executes the bidirectional RRT algorithm to find an optimal path between a starting point and an ending point, taking into account obstacles in the environment. The algorithm generates a series of frames showing the evolution of the RRT trees created during execution, along with the final path found. Initially, the algorithm performs *num_iterations* iterations of the bidirectional RRT, adding nodes to the RRT trees starting from the starting point and ending point. At each iteration, it checks whether the last nodes added to the trees are sufficiently close to each other. If yes, a final path is constructed by combining the paths from the root trees to the neighboring nodes.\n",
    "Next, frames are created for the GIF showing the evolution of the RRT trees over time. These frames are generated using imageio to create the animated GIF. Each frame shows the current state of the RRT trees, with the nodes represented as points in the graph and the paths between nodes represented by lines."
   ]
  },
  {
   "cell_type": "code",
   "execution_count": 11,
   "metadata": {},
   "outputs": [],
   "source": [
    "import imageio\n",
    "\n",
    "def extract_frames(input_path, output_path):\n",
    "    # Ottieni un oggetto reader per il file GIF\n",
    "    reader = imageio.get_reader(input_path)\n",
    "\n",
    "    # Estrai il primo frame\n",
    "    first_frame = reader.get_data(0)\n",
    "\n",
    "    # Estrai l'ultimo frame\n",
    "    num_frames = len(reader)\n",
    "    last_frame = reader.get_data(num_frames - 1)\n",
    "\n",
    "    # Salva i frame come immagini PNG\n",
    "    imageio.imwrite(output_path + \"_first_frame.png\", first_frame)\n",
    "    imageio.imwrite(output_path + \"_last_frame.png\", last_frame)\n",
    "\n",
    "# Specifica il percorso del file GIF di input e il percorso di output per le immagini PNG\n",
    "input_gif_path = \"rrt_bidirectional_animation.gif\"\n",
    "output_png_path = \"rrt_b\"\n",
    "input2_gif_path = \"rrt_animation.gif\"\n",
    "outpu2t_png_path = \"rrt_\"\n",
    "\n",
    "# Chiama la funzione per estrarre i frame\n",
    "extract_frames(input_gif_path, output_png_path)\n",
    "extract_frames(input2_gif_path, outpu2t_png_path)\n"
   ]
  },
  {
   "cell_type": "code",
   "execution_count": 12,
   "metadata": {},
   "outputs": [],
   "source": [
    "from PIL import Image\n",
    "\n",
    "# Carica la GIF\n",
    "gif_path = \"rrt_animation.gif\"\n",
    "gif_reader = imageio.get_reader(gif_path)\n",
    "\n",
    "# Carica il PNG\n",
    "png_path = \"rrt_b_first_frame.png\"\n",
    "png_image = Image.open(png_path)\n",
    "\n",
    "# Prendi le dimensioni del primo frame della GIF e del PNG\n",
    "gif_frame = Image.fromarray(gif_reader.get_data(0))\n",
    "gif_width, gif_height = gif_frame.size\n",
    "png_width, png_height = png_image.size\n",
    "\n",
    "# Crea una lista per i frame finali\n",
    "final_frames = []\n",
    "\n",
    "# Sovrapponi il PNG su ciascun frame della GIF\n",
    "for frame in gif_reader:\n",
    "    # Converte il frame della GIF in un'immagine PIL\n",
    "    gif_frame = Image.fromarray(frame)\n",
    "\n",
    "    # Crea un'immagine vuota per il frame finale\n",
    "    final_frame = Image.new(\"RGBA\", (gif_width + png_width, max(gif_height, png_height)))\n",
    "\n",
    "    # Aggiungi il frame della GIF a sinistra\n",
    "    final_frame.paste(gif_frame, (0, 0))\n",
    "\n",
    "    # Aggiungi il PNG a destra\n",
    "    final_frame.paste(png_image, (gif_width, 0))\n",
    "\n",
    "    # Aggiungi l'immagine finale alla lista dei frame finali\n",
    "    final_frames.append(final_frame)\n",
    "\n",
    "# Salva l'animazione finale come GIF\n",
    "output_path = \"final_animation.gif\"\n",
    "final_frames[0].save(output_path, save_all=True, append_images=final_frames[1:], loop=0, duration=gif_reader.get_meta_data()['duration'])\n"
   ]
  },
  {
   "cell_type": "code",
   "execution_count": 13,
   "metadata": {},
   "outputs": [],
   "source": [
    "from PIL import Image\n",
    "\n",
    "# Carica la GIF\n",
    "gif_path = \"rrt_bidirectional_animation.gif\"\n",
    "gif_reader = imageio.get_reader(gif_path)\n",
    "\n",
    "# Carica il PNG\n",
    "png_path = \"rrt__last_frame.png\"\n",
    "png_image = Image.open(png_path)\n",
    "\n",
    "# Prendi le dimensioni del primo frame della GIF e del PNG\n",
    "gif_frame = Image.fromarray(gif_reader.get_data(0))\n",
    "gif_width, gif_height = gif_frame.size\n",
    "png_width, png_height = png_image.size\n",
    "\n",
    "# Crea una lista per i frame finali\n",
    "final_frames = []\n",
    "\n",
    "# Sovrapponi il PNG su ciascun frame della GIF\n",
    "for frame in gif_reader:\n",
    "    # Converte il frame della GIF in un'immagine PIL\n",
    "    gif_frame = Image.fromarray(frame)\n",
    "\n",
    "    # Crea un'immagine vuota per il frame finale\n",
    "    final_frame = Image.new(\"RGBA\", (gif_width + png_width, max(gif_height, png_height)))\n",
    "\n",
    "    # Aggiungi il PNG a sinistra\n",
    "    final_frame.paste(png_image, (0, 0))\n",
    "\n",
    "    # Aggiungi il frame della GIF a destra\n",
    "    final_frame.paste(gif_frame, (png_width, 0))\n",
    "\n",
    "    # Aggiungi l'immagine finale alla lista dei frame finali\n",
    "    final_frames.append(final_frame)\n",
    "\n",
    "# Aggiungi alcuni frame vuoti per far durare l'ultimo frame della GIF\n",
    "num_empty_frames = 200\n",
    "last_frame = final_frames[-1]\n",
    "for _ in range(num_empty_frames):\n",
    "    final_frames.append(last_frame.copy())\n",
    "\n",
    "# Salva l'animazione finale come GIF\n",
    "output_path = \"final_animationbiderectional.gif\"\n",
    "final_frames[0].save(output_path, save_all=True, append_images=final_frames[1:], loop=0, duration=gif_reader.get_meta_data()['duration'] + num_empty_frames)\n"
   ]
  }
 ],
 "metadata": {
  "kernelspec": {
   "display_name": "Python 3 (ipykernel)",
   "language": "python",
   "name": "python3"
  },
  "language_info": {
   "codemirror_mode": {
    "name": "ipython",
    "version": 3
   },
   "file_extension": ".py",
   "mimetype": "text/x-python",
   "name": "python",
   "nbconvert_exporter": "python",
   "pygments_lexer": "ipython3",
   "version": "3.10.12"
  }
 },
 "nbformat": 4,
 "nbformat_minor": 2
}
